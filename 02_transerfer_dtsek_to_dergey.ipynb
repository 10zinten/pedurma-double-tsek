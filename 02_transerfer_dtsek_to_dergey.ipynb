{
 "cells": [
  {
   "cell_type": "code",
   "execution_count": 1,
   "metadata": {},
   "outputs": [],
   "source": [
    "# default_exp transfer_dtsek_to_dergey"
   ]
  },
  {
   "cell_type": "code",
   "execution_count": 2,
   "metadata": {},
   "outputs": [],
   "source": [
    "import yaml\n",
    "import unicodedata\n",
    "\n",
    "from antx.utils import optimized_diff_match_patch\n",
    "from tqdm import tqdm\n",
    "\n",
    "from dtsek.config import TengyurConfig"
   ]
  },
  {
   "cell_type": "code",
   "execution_count": 3,
   "metadata": {},
   "outputs": [
    {
     "data": {
      "text/plain": [
       "PosixPath('/home/tenzin/.antx/bin/dmp')"
      ]
     },
     "execution_count": 3,
     "metadata": {},
     "output_type": "execute_result"
    }
   ],
   "source": [
    "dmp = optimized_diff_match_patch()\n",
    "dmp.binary_path"
   ]
  },
  {
   "cell_type": "markdown",
   "metadata": {},
   "source": [
    "# Transfer Annotations\n",
    "\n",
    "Steps:\n",
    "1. Get dergey base for text\n",
    "1. Get pedurma double tseked text\n",
    "1. Transfer pedurma double tseks to dergey base"
   ]
  },
  {
   "cell_type": "markdown",
   "metadata": {},
   "source": [
    "## Get dergey base"
   ]
  },
  {
   "cell_type": "code",
   "execution_count": 14,
   "metadata": {},
   "outputs": [],
   "source": [
    "#export\n",
    "def get_dergey_bases_path\n",
    "\n",
    "def get_bases():\n",
    "    \"Returns dergey and pedurma base with double tseks\"\n",
    "    dergey_bases_path = config.op_pechas_path / config.d_pecha_id / f\"{config.d_pecha_id}.opf\" / \"base\"\n",
    "    for (d_base_fn, p_base_path) in zip(sorted(dergey_bases_path.iterdir()), sorted(config.pedurma_output_path.iterdir())):\n",
    "        print(d_base_fn.name, p_base_path.name)"
   ]
  },
  {
   "cell_type": "code",
   "execution_count": 16,
   "metadata": {},
   "outputs": [
    {
     "data": {
      "text/plain": [
       "[PosixPath('output/tengyur/pedurma/.git'),\n",
       " PosixPath('output/tengyur/pedurma/I1PD95846'),\n",
       " PosixPath('output/tengyur/pedurma/I1PD95847'),\n",
       " PosixPath('output/tengyur/pedurma/I1PD95848'),\n",
       " PosixPath('output/tengyur/pedurma/I1PD95849'),\n",
       " PosixPath('output/tengyur/pedurma/I1PD95850'),\n",
       " PosixPath('output/tengyur/pedurma/I1PD95851'),\n",
       " PosixPath('output/tengyur/pedurma/I1PD95852'),\n",
       " PosixPath('output/tengyur/pedurma/I1PD95853'),\n",
       " PosixPath('output/tengyur/pedurma/I1PD95854'),\n",
       " PosixPath('output/tengyur/pedurma/I1PD95855'),\n",
       " PosixPath('output/tengyur/pedurma/I1PD95856'),\n",
       " PosixPath('output/tengyur/pedurma/I1PD95857'),\n",
       " PosixPath('output/tengyur/pedurma/I1PD95858'),\n",
       " PosixPath('output/tengyur/pedurma/I1PD95859'),\n",
       " PosixPath('output/tengyur/pedurma/I1PD95860'),\n",
       " PosixPath('output/tengyur/pedurma/I1PD95861'),\n",
       " PosixPath('output/tengyur/pedurma/I1PD95862'),\n",
       " PosixPath('output/tengyur/pedurma/I1PD95863'),\n",
       " PosixPath('output/tengyur/pedurma/I1PD95864'),\n",
       " PosixPath('output/tengyur/pedurma/I1PD95865'),\n",
       " PosixPath('output/tengyur/pedurma/I1PD95866'),\n",
       " PosixPath('output/tengyur/pedurma/I1PD95867'),\n",
       " PosixPath('output/tengyur/pedurma/I1PD95868'),\n",
       " PosixPath('output/tengyur/pedurma/I1PD95869'),\n",
       " PosixPath('output/tengyur/pedurma/I1PD95870'),\n",
       " PosixPath('output/tengyur/pedurma/I1PD95871'),\n",
       " PosixPath('output/tengyur/pedurma/I1PD95872'),\n",
       " PosixPath('output/tengyur/pedurma/I1PD95873'),\n",
       " PosixPath('output/tengyur/pedurma/I1PD95874'),\n",
       " PosixPath('output/tengyur/pedurma/I1PD95875'),\n",
       " PosixPath('output/tengyur/pedurma/I1PD95876'),\n",
       " PosixPath('output/tengyur/pedurma/I1PD95877'),\n",
       " PosixPath('output/tengyur/pedurma/I1PD95878'),\n",
       " PosixPath('output/tengyur/pedurma/I1PD95879'),\n",
       " PosixPath('output/tengyur/pedurma/I1PD95880'),\n",
       " PosixPath('output/tengyur/pedurma/I1PD95881'),\n",
       " PosixPath('output/tengyur/pedurma/I1PD95882'),\n",
       " PosixPath('output/tengyur/pedurma/I1PD95883'),\n",
       " PosixPath('output/tengyur/pedurma/I1PD95884'),\n",
       " PosixPath('output/tengyur/pedurma/I1PD95885'),\n",
       " PosixPath('output/tengyur/pedurma/I1PD95886'),\n",
       " PosixPath('output/tengyur/pedurma/I1PD95887'),\n",
       " PosixPath('output/tengyur/pedurma/I1PD95888'),\n",
       " PosixPath('output/tengyur/pedurma/I1PD95889'),\n",
       " PosixPath('output/tengyur/pedurma/I1PD95890'),\n",
       " PosixPath('output/tengyur/pedurma/I1PD95891'),\n",
       " PosixPath('output/tengyur/pedurma/I1PD95892'),\n",
       " PosixPath('output/tengyur/pedurma/I1PD95893'),\n",
       " PosixPath('output/tengyur/pedurma/I1PD95894'),\n",
       " PosixPath('output/tengyur/pedurma/I1PD95895'),\n",
       " PosixPath('output/tengyur/pedurma/I1PD95896'),\n",
       " PosixPath('output/tengyur/pedurma/I1PD95898'),\n",
       " PosixPath('output/tengyur/pedurma/I1PD95899'),\n",
       " PosixPath('output/tengyur/pedurma/I1PD95900'),\n",
       " PosixPath('output/tengyur/pedurma/I1PD95901'),\n",
       " PosixPath('output/tengyur/pedurma/I1PD95902'),\n",
       " PosixPath('output/tengyur/pedurma/I1PD95903'),\n",
       " PosixPath('output/tengyur/pedurma/I1PD95904'),\n",
       " PosixPath('output/tengyur/pedurma/I1PD95905'),\n",
       " PosixPath('output/tengyur/pedurma/I1PD95906'),\n",
       " PosixPath('output/tengyur/pedurma/I1PD95907'),\n",
       " PosixPath('output/tengyur/pedurma/I1PD95908'),\n",
       " PosixPath('output/tengyur/pedurma/I1PD95909'),\n",
       " PosixPath('output/tengyur/pedurma/I1PD95910')]"
      ]
     },
     "execution_count": 16,
     "metadata": {},
     "output_type": "execute_result"
    }
   ],
   "source": [
    "\n"
   ]
  },
  {
   "cell_type": "markdown",
   "metadata": {},
   "source": [
    "## Get pedurma double tseked text"
   ]
  },
  {
   "cell_type": "markdown",
   "metadata": {},
   "source": [
    "## Transfer pedurma double tseks to dergey base"
   ]
  },
  {
   "cell_type": "code",
   "execution_count": 10,
   "metadata": {},
   "outputs": [],
   "source": [
    "#export\n",
    "def isNSM(char):\n",
    "    # Detects nonspacing mark characters\n",
    "    if unicodedata.category(char) == \"Mn\":\n",
    "        return True\n",
    "    return False"
   ]
  },
  {
   "cell_type": "code",
   "execution_count": 11,
   "metadata": {},
   "outputs": [
    {
     "data": {
      "text/plain": [
       "True"
      ]
     },
     "execution_count": 11,
     "metadata": {},
     "output_type": "execute_result"
    }
   ],
   "source": [
    "char = 'ཽ'\n",
    "isNSM(char)"
   ]
  },
  {
   "cell_type": "code",
   "execution_count": 12,
   "metadata": {},
   "outputs": [],
   "source": [
    "#export\n",
    "def get_first_char_idx(text, char):\n",
    "    \"\"\"Return first char idx in `text` and -1 of not found\n",
    "\n",
    "    found har idx is expanded for whitespces after the char.\n",
    "    \"\"\"\n",
    "    is_char_found = False\n",
    "    idx = -1\n",
    "    for i in range(len(text)):\n",
    "        if not is_char_found and text[i] == char:\n",
    "            is_char_found = True\n",
    "            idx = i\n",
    "        elif is_char_found:\n",
    "            if text[i] != ' ': return i-1\n",
    "            elif i == len(text)-1: return i\n",
    "    return idx"
   ]
  },
  {
   "cell_type": "code",
   "execution_count": 13,
   "metadata": {},
   "outputs": [
    {
     "name": "stdout",
     "output_type": "stream",
     "text": [
      "'01|  ' '5'\n",
      "'01|  '\n"
     ]
    }
   ],
   "source": [
    "string = '01|  567 9'\n",
    "idx = get_first_char_idx(string, '|')\n",
    "print(repr(string[:idx+1]), repr(string[idx+1]))\n",
    "\n",
    "string = '01|  '\n",
    "idx = get_first_char_idx(string, '|')\n",
    "print(repr(string[:idx+1]))"
   ]
  },
  {
   "cell_type": "code",
   "execution_count": 43,
   "metadata": {},
   "outputs": [],
   "source": [
    "#export\n",
    "def parse_double_tsek(text):\n",
    "    double_tsek_idxs = []\n",
    "    base_char_idx = 0\n",
    "    for c in text:\n",
    "        if c == config.double_tsek_sym:\n",
    "            double_tsek_idxs.append(base_char_idx)\n",
    "            continue\n",
    "        base_char_idx += 1\n",
    "    return double_tsek_idxs\n",
    "\n",
    "def adjust_next_diff(i, diffs, ann_text, to_char):\n",
    "    diff_mode, diff_chunk = diffs[i+1]\n",
    "    # add chars till next tsek to the ann_text\n",
    "    first_char_idx = get_first_char_idx(diff_chunk, to_char)\n",
    "    ann_text += diff_chunk[:first_char_idx+1]\n",
    "    # remove chars till next tsek from diff[i+1]\n",
    "    diffs[i+1] = (diff_mode, diff_chunk[first_char_idx+1:])\n",
    "    return ann_text\n",
    "\n",
    "\n",
    "def transfer_anns_with_diff(base_text, dest_text):\n",
    "    ann_text = ''\n",
    "    diffs = list(dmp.diff_main(dest_text, base_text))\n",
    "    for i in range(len(diffs)):\n",
    "        if diffs[i][0] == -1:\n",
    "            if config.double_tsek_sym in diffs[i][1]:\n",
    "                # check for next diff adjustment\n",
    "                if i < len(diffs)-1:\n",
    "                    # adjust next diff[i+1] if it's first char is NSM\n",
    "                    if isNSM(diffs[i+1][1][0]):\n",
    "                        ann_text = adjust_next_diff(i, diffs, ann_text, config.tsek)\n",
    "\n",
    "                    # adjust next diff[i+1] if it's first char in tsek\n",
    "                    elif diffs[i+1][1][0] == config.tsek:\n",
    "                        ann_text = adjust_next_diff(i, diffs, ann_text, config.tsek)\n",
    "\n",
    "                    # adjust next diff[i+1] if it's first char in shed\n",
    "                    elif diffs[i+1][1][0] == config.shed:\n",
    "                        ann_text = adjust_next_diff(i, diffs, ann_text, config.shed)\n",
    "\n",
    "                    # adjust next diff[i+1] if its first char is line return\n",
    "                    elif diffs[i+1][1][0] == '\\n':\n",
    "                        ann_text = adjust_next_diff(i, diffs, ann_text, '\\n')\n",
    "\n",
    "                if len(diffs[i][1]) == 1:\n",
    "                    ann_text += diffs[i][1]\n",
    "                else:\n",
    "                    ann_text += '$'\n",
    "        else:\n",
    "            ann_text += diffs[i][1]\n",
    "    double_tsek_idxs = parse_double_tsek(ann_text)\n",
    "    print(f'\\t- Transferred {len(double_tsek_idxs)} out of {dest_text.count(config.double_tsek_sym)}')\n",
    "    return double_tsek_idxs, ann_text"
   ]
  },
  {
   "cell_type": "code",
   "execution_count": 44,
   "metadata": {},
   "outputs": [
    {
     "name": "stdout",
     "output_type": "stream",
     "text": [
      "\t- Transferred 1 out of 1\n"
     ]
    },
    {
     "data": {
      "text/plain": [
       "([9], 'དེ་ནས་ཀཽ་$ཤཱཾ་བཱི་ན་གནས་')"
      ]
     },
     "execution_count": 44,
     "metadata": {},
     "output_type": "execute_result"
    }
   ],
   "source": [
    "#NSM case\n",
    "p_text = 'དེ་ནས་ཀོ$ཧཱུཾ་བཱི་ན་'\n",
    "d_text = 'དེ་ནས་ཀཽ་ཤཱཾ་བཱི་ན་གནས་'\n",
    "transfer_anns_with_diff(d_text, p_text)"
   ]
  },
  {
   "cell_type": "code",
   "execution_count": 45,
   "metadata": {},
   "outputs": [
    {
     "name": "stdout",
     "output_type": "stream",
     "text": [
      "\t- Transferred 1 out of 1\n"
     ]
    },
    {
     "data": {
      "text/plain": [
       "([7], 'རིག་པས་$མ་རིག་པའི་སྒོ་')"
      ]
     },
     "execution_count": 45,
     "metadata": {},
     "output_type": "execute_result"
    }
   ],
   "source": [
    "# adjust marker which is diffed before tsek\n",
    "p_text = 'རིག་པས$༔མ་རིག་པའི་སྒོ་'\n",
    "d_text = 'རིག་པས་མ་རིག་པའི་སྒོ་'\n",
    "transfer_anns_with_diff(d_text, p_text)"
   ]
  },
  {
   "cell_type": "code",
   "execution_count": 46,
   "metadata": {},
   "outputs": [
    {
     "name": "stdout",
     "output_type": "stream",
     "text": [
      "\t- Transferred 1 out of 1\n"
     ]
    },
    {
     "data": {
      "text/plain": [
       "([5], '་ནི། $ལྷ་སྦྱིན་འདི་ཉིད་')"
      ]
     },
     "execution_count": 46,
     "metadata": {},
     "output_type": "execute_result"
    }
   ],
   "source": [
    "p_text = 'ནི༑$ལྷ་སྦྱིན་འདི་ཉིད་'\n",
    "d_text = '་ནི། ལྷ་སྦྱིན་འདི་ཉིད་'\n",
    "transfer_anns_with_diff(d_text, p_text)"
   ]
  },
  {
   "cell_type": "code",
   "execution_count": 47,
   "metadata": {},
   "outputs": [
    {
     "name": "stdout",
     "output_type": "stream",
     "text": [
      "\t- Transferred 1 out of 1\n"
     ]
    },
    {
     "data": {
      "text/plain": [
       "([7], 'ཟད་དེ།\\n$ད་ནི་དེ་')"
      ]
     },
     "execution_count": 47,
     "metadata": {},
     "output_type": "execute_result"
    }
   ],
   "source": [
    "p_text = 'ཟད་དེ། $ད་ནི་དེ་'\n",
    "d_text = 'ཟད་དེ།\\nད་ནི་དེ་'\n",
    "transfer_anns_with_diff(d_text, p_text)"
   ]
  },
  {
   "cell_type": "code",
   "execution_count": 4,
   "metadata": {},
   "outputs": [
    {
     "ename": "NameError",
     "evalue": "name 'transfer_anns_with_diff' is not defined",
     "output_type": "error",
     "traceback": [
      "\u001b[0;31m---------------------------------------------------------------------------\u001b[0m",
      "\u001b[0;31mNameError\u001b[0m                                 Traceback (most recent call last)",
      "\u001b[0;32m<ipython-input-4-a99cef4cb750>\u001b[0m in \u001b[0;36m<module>\u001b[0;34m\u001b[0m\n\u001b[1;32m      1\u001b[0m \u001b[0mpedurma_ann_text\u001b[0m \u001b[0;34m=\u001b[0m \u001b[0;34m'ལས་བརྒྱ་ཐམ་པ་པ། ༄༅། །རྒྱ་གར་སྐད་དུ། ཀརྨ་ཤ་ཏ་ཀ། བོད་སྐད་དུ། ལས་བརྒྱ་ཐམ་པ་པོ། བམ་པོ་དང་པོ། ཐམས་ཅད་མཁྱེན་པ་ལ་ཕྱག་འཚལ་ལོ། །གང་ལས་འཇིག་རྟེན་བླ་མ་བདེ་གཤེགས་ཐོས་པའི་སྒོ་ནས་རབ་སྙན་བརྟན་པའི་གསུང་་་་ལྡན་གྱིས། །སེམས་ཅན་རྣམས་ལ་ཕན་པ་འབའ་ཞིག་བཞེད་ཕྱིར་བཤད་པ་རྣམ་པ་སྣ་ཚོགས་རང་ཉིད་ཀྱིས། །ལོག་པར་ལྟ་བའི་མུན་ནག་ཆེན་པོ་ཐིབས་པོར་$འཐོམས་ཤིངའཁྲུགས་པ་རྣམས་ལ་རབ་གསུངས་པ། །$དེ་ཡི་མིང་ནི་ལས་རྣམ་བརྒྱ་པ་ཞེས་བྱ་ཡོངས་སུ་ཚང་བ་བདག་གིས་བཤད་ཀྱིས་ཉོན། །སྤྱི་སྡོམ་ནི༑ཁྱི་མོ་དང་ནི་ཤིང་རྟ་དང་། །ཀ་ཙང་ཀ་ལ་བྱམས་མི་སྡུག། བྱ་དང་འཕྱེ་བོ་གང་པོ་དང་། །བུ་རྣམས་དང་ནི་བརྒྱ་བྱིན་ནོ། །སྡོམ་ནི།'\u001b[0m\u001b[0;34m\u001b[0m\u001b[0;34m\u001b[0m\u001b[0m\n\u001b[1;32m      2\u001b[0m \u001b[0mderge_text\u001b[0m \u001b[0;34m=\u001b[0m \u001b[0;34m'༄༅༅། །རྒྱ་གར་སྐད་དུ། ཀརྨ་ཤ་ཏ་ཀ། བོད་སྐད་དུ། ལས་བརྒྱ་ཐམ་པ་པ། བམ་པོ་དང་པོ། ཐམས་ཅད་མཁྱེན་པ་ལ་ཕྱག་འཚལ་ལོ། །གང་ལས་འཇིག་རྟེན་བླ་མ་བདེ་གཤེགས་ཐོས་པའི་སྒོ་ནས་རབ་སྙན་བརྟན་པའི་གསུང་ལྡན་གྱིས། །སེམས་ཅན་རྣམས་ལ་ཕན་པ་འབའ་ཞིག་བཞེད་ཕྱིར་བཤད་པ་རྣམ་པ་སྣ་ཚོགས་རང་ཉིད་ཀྱིས། །ལོག་པར་ལྟ་བའི་མུན་ནག་ཆེན་པོ་ཐིབས་པོར་འཐོམས་ཤིང་འཁྲུགས་པ་རྣམས་ལ་རབ་གསུངས་པ། །དེ་ཡི་མིང་ནི་ལས་རྣམ་བརྒྱ་པ་ཞེས་བྱ་ཡོངས་སུ་ཚང་བ་བདག་གིས་བཤད་ཀྱིས་ཉོན། །སྤྱི་སྡོམ་ནི། ཁྱི་མོ་དང་ནི་ཤིང་རྟ་དང་། །ཀ་ཙང་ཀ་ལ་བྱམས་མི་སྡུག །བྱ་དང་འཕྱེ་བོ་གང་པོ་དང་། །བུ་རྣམས་དང་ནི་བརྒྱ་བྱིན་ནོ། །སྡོམ་ནི། ཁྱི་མོ་མིག་ཆུང་'\u001b[0m\u001b[0;34m\u001b[0m\u001b[0;34m\u001b[0m\u001b[0m\n\u001b[0;32m----> 3\u001b[0;31m \u001b[0mtransfer_anns_with_diff\u001b[0m\u001b[0;34m(\u001b[0m\u001b[0mderge_text\u001b[0m\u001b[0;34m,\u001b[0m \u001b[0mpedurma_ann_text\u001b[0m\u001b[0;34m)\u001b[0m\u001b[0;34m\u001b[0m\u001b[0;34m\u001b[0m\u001b[0m\n\u001b[0m",
      "\u001b[0;31mNameError\u001b[0m: name 'transfer_anns_with_diff' is not defined"
     ]
    }
   ],
   "source": [
    "pedurma_ann_text = 'ལས་བརྒྱ་ཐམ་པ་པ། ༄༅། །རྒྱ་གར་སྐད་དུ། ཀརྨ་ཤ་ཏ་ཀ། བོད་སྐད་དུ། ལས་བརྒྱ་ཐམ་པ་པོ། བམ་པོ་དང་པོ། ཐམས་ཅད་མཁྱེན་པ་ལ་ཕྱག་འཚལ་ལོ། །གང་ལས་འཇིག་རྟེན་བླ་མ་བདེ་གཤེགས་ཐོས་པའི་སྒོ་ནས་རབ་སྙན་བརྟན་པའི་གསུང་་་་ལྡན་གྱིས། །སེམས་ཅན་རྣམས་ལ་ཕན་པ་འབའ་ཞིག་བཞེད་ཕྱིར་བཤད་པ་རྣམ་པ་སྣ་ཚོགས་རང་ཉིད་ཀྱིས། །ལོག་པར་ལྟ་བའི་མུན་ནག་ཆེན་པོ་ཐིབས་པོར་$འཐོམས་ཤིངའཁྲུགས་པ་རྣམས་ལ་རབ་གསུངས་པ། །$དེ་ཡི་མིང་ནི་ལས་རྣམ་བརྒྱ་པ་ཞེས་བྱ་ཡོངས་སུ་ཚང་བ་བདག་གིས་བཤད་ཀྱིས་ཉོན། །སྤྱི་སྡོམ་ནི༑ཁྱི་མོ་དང་ནི་ཤིང་རྟ་དང་། །ཀ་ཙང་ཀ་ལ་བྱམས་མི་སྡུག། བྱ་དང་འཕྱེ་བོ་གང་པོ་དང་། །བུ་རྣམས་དང་ནི་བརྒྱ་བྱིན་ནོ། །སྡོམ་ནི།'\n",
    "derge_text = '༄༅༅། །རྒྱ་གར་སྐད་དུ། ཀརྨ་ཤ་ཏ་ཀ། བོད་སྐད་དུ། ལས་བརྒྱ་ཐམ་པ་པ། བམ་པོ་དང་པོ། ཐམས་ཅད་མཁྱེན་པ་ལ་ཕྱག་འཚལ་ལོ། །གང་ལས་འཇིག་རྟེན་བླ་མ་བདེ་གཤེགས་ཐོས་པའི་སྒོ་ནས་རབ་སྙན་བརྟན་པའི་གསུང་ལྡན་གྱིས། །སེམས་ཅན་རྣམས་ལ་ཕན་པ་འབའ་ཞིག་བཞེད་ཕྱིར་བཤད་པ་རྣམ་པ་སྣ་ཚོགས་རང་ཉིད་ཀྱིས། །ལོག་པར་ལྟ་བའི་མུན་ནག་ཆེན་པོ་ཐིབས་པོར་འཐོམས་ཤིང་འཁྲུགས་པ་རྣམས་ལ་རབ་གསུངས་པ། །དེ་ཡི་མིང་ནི་ལས་རྣམ་བརྒྱ་པ་ཞེས་བྱ་ཡོངས་སུ་ཚང་བ་བདག་གིས་བཤད་ཀྱིས་ཉོན། །སྤྱི་སྡོམ་ནི། ཁྱི་མོ་དང་ནི་ཤིང་རྟ་དང་། །ཀ་ཙང་ཀ་ལ་བྱམས་མི་སྡུག །བྱ་དང་འཕྱེ་བོ་གང་པོ་དང་། །བུ་རྣམས་དང་ནི་བརྒྱ་བྱིན་ནོ། །སྡོམ་ནི། ཁྱི་མོ་མིག་ཆུང་'\n",
    "transfer_anns_with_diff(derge_text, pedurma_ann_text)"
   ]
  },
  {
   "cell_type": "code",
   "execution_count": 6,
   "metadata": {},
   "outputs": [],
   "source": [
    "from config import TengyurConfig"
   ]
  },
  {
   "cell_type": "code",
   "execution_count": 7,
   "metadata": {},
   "outputs": [
    {
     "data": {
      "text/plain": [
       "{'ocr_path': PosixPath('../archive'),\n",
       " 'op_pechas_path': PosixPath('/home/tenzin/.openpecha/pechas'),\n",
       " 'peydurma_path': PosixPath('data/peydurma'),\n",
       " 'template_path': PosixPath('data/peydurma/templates'),\n",
       " 'output_path': PosixPath('output'),\n",
       " 'double_tsek_sym': '$',\n",
       " 'expected_double_tsek_sym': ':',\n",
       " 'tsek': '་',\n",
       " 'shed': '།',\n",
       " 'img_size': (3969, 2641),\n",
       " 'debug': False,\n",
       " 'name': 'tengyur',\n",
       " 'work_id': 'W1PD95844',\n",
       " 'd_pecha_id': 'P000002',\n",
       " 'p_pecha_id': 'P000792',\n",
       " 'images_path': PosixPath('../archive/images/W1PD95844'),\n",
       " 'ocr_output_path': PosixPath('../archive/output/W1PD95844'),\n",
       " 'pedurma_output_path': PosixPath('output/tengyur/pedurma'),\n",
       " 'dergey_output_path': PosixPath('output/tengyur/dergey')}"
      ]
     },
     "execution_count": 7,
     "metadata": {},
     "output_type": "execute_result"
    }
   ],
   "source": [
    "config = TengyurConfig()\n",
    "vars(config)"
   ]
  },
  {
   "cell_type": "code",
   "execution_count": null,
   "metadata": {},
   "outputs": [],
   "source": []
  }
 ],
 "metadata": {
  "kernelspec": {
   "display_name": "Python 3",
   "language": "python",
   "name": "python3"
  },
  "language_info": {
   "codemirror_mode": {
    "name": "ipython",
    "version": 3
   },
   "file_extension": ".py",
   "mimetype": "text/x-python",
   "name": "python",
   "nbconvert_exporter": "python",
   "pygments_lexer": "ipython3",
   "version": "3.6.7"
  },
  "toc": {
   "base_numbering": 1,
   "nav_menu": {},
   "number_sections": true,
   "sideBar": true,
   "skip_h1_title": false,
   "title_cell": "Table of Contents",
   "title_sidebar": "Contents",
   "toc_cell": false,
   "toc_position": {},
   "toc_section_display": true,
   "toc_window_display": false
  }
 },
 "nbformat": 4,
 "nbformat_minor": 2
}
