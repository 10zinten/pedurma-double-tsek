{
 "cells": [
  {
   "cell_type": "code",
   "execution_count": 1,
   "metadata": {},
   "outputs": [],
   "source": [
    "# default_exp transfer_dtsek_to_dergey"
   ]
  },
  {
   "cell_type": "code",
   "execution_count": 36,
   "metadata": {},
   "outputs": [],
   "source": [
    "#export\n",
    "import unicodedata\n",
    "import re\n",
    "import sys\n",
    "\n",
    "from antx.utils import optimized_diff_match_patch\n",
    "from tqdm.notebook import tqdm\n",
    "from config import TengyurConfig, KangyurConfig\n",
    "from fastcore.parallel import parallel\n",
    "\n",
    "from dtsek.config import TengyurConfig"
   ]
  },
  {
   "cell_type": "code",
   "execution_count": 3,
   "metadata": {},
   "outputs": [],
   "source": [
    "config = TengyurConfig()"
   ]
  },
  {
   "cell_type": "code",
   "execution_count": 4,
   "metadata": {},
   "outputs": [
    {
     "data": {
      "text/plain": [
       "PosixPath('/home/tenzin/.antx/bin/dmp')"
      ]
     },
     "execution_count": 4,
     "metadata": {},
     "output_type": "execute_result"
    }
   ],
   "source": [
    "#export\n",
    "dmp = optimized_diff_match_patch()\n",
    "dmp.binary_path"
   ]
  },
  {
   "cell_type": "code",
   "execution_count": 5,
   "metadata": {},
   "outputs": [],
   "source": [
    "optimized_diff_match_patch??"
   ]
  },
  {
   "cell_type": "markdown",
   "metadata": {},
   "source": [
    "Steps:\n",
    "1. build and transfer double tsek to pedurma\n",
    "1. Get dergey and pedurma double tsek text\n",
    "1. Transfer pedurma double tseks to dergey base"
   ]
  },
  {
   "cell_type": "markdown",
   "metadata": {},
   "source": [
    "# build and transfer double tsek pedurma\n",
    "\n",
    "## preprocess ocr double tsek output\n",
    "- remove obvious false postive double tseks (grouped double tseks, more than one)"
   ]
  },
  {
   "cell_type": "code",
   "execution_count": 20,
   "metadata": {},
   "outputs": [],
   "source": [
    "#export\n",
    "def remove_grouped_dtseks(text):\n",
    "    return re.sub(':{3,}', '', text)\n",
    "\n",
    "def change_dtsek_to_dollar(text):\n",
    "    return re.sub(':', config.double_tsek_sym, text)\n",
    "\n",
    "def preprocess_ocr_output(text):\n",
    "    text = remove_grouped_dtseks(text)\n",
    "    text = change_dtsek_to_dollar(text)\n",
    "    return text"
   ]
  },
  {
   "cell_type": "code",
   "execution_count": 67,
   "metadata": {},
   "outputs": [],
   "source": [
    "assert preprocess_ocr_output('ལ་::ཁྱོལ་པོ་པ། :སྤྱི་བ་ལོ::::་ཀ') == 'ལ་$$ཁྱོལ་པོ་པ། $སྤྱི་བ་ལོ་ཀ'"
   ]
  },
  {
   "cell_type": "code",
   "execution_count": 7,
   "metadata": {},
   "outputs": [],
   "source": [
    "#export\n",
    "def build_pedurma_vols(replace=False):\n",
    "    for vol_dir in tqdm(sorted(config.pedurma_output_path.iterdir())):\n",
    "        vol_fn = vol_dir.parent / f\"{vol_dir.name}.txt\"\n",
    "        if vol_dir.is_file() or vol_dir.name == '.git': continue\n",
    "        if vol_fn.is_file() and not replace: continue\n",
    "        vol_text = ''\n",
    "        for (i, page_fn) in enumerate(sorted(vol_dir.iterdir())):\n",
    "            page_text = page_fn.read_text()\n",
    "            # dont't preprocess the first page, metadata\n",
    "            if i: page_text = preprocess_ocr_output(page_text)\n",
    "            vol_text += page_text + \"\\n\\n\\n\"\n",
    "        vol_fn.write_text(vol_text)"
   ]
  },
  {
   "cell_type": "code",
   "execution_count": 72,
   "metadata": {},
   "outputs": [
    {
     "data": {
      "application/vnd.jupyter.widget-view+json": {
       "model_id": "7d815a53080c47f2b1c2c7b9e98fbed7",
       "version_major": 2,
       "version_minor": 0
      },
      "text/plain": [
       "  0%|          | 0/129 [00:00<?, ?it/s]"
      ]
     },
     "metadata": {},
     "output_type": "display_data"
    }
   ],
   "source": [
    "build_pedurma_vols()"
   ]
  },
  {
   "cell_type": "markdown",
   "metadata": {},
   "source": [
    "### transfer double tseks to pedurma"
   ]
  },
  {
   "cell_type": "code",
   "execution_count": 8,
   "metadata": {},
   "outputs": [],
   "source": [
    "#export\n",
    "def isNSM(char):\n",
    "    # Detects nonspacing mark characters\n",
    "    if unicodedata.category(char) == \"Mn\":\n",
    "        return True\n",
    "    return False"
   ]
  },
  {
   "cell_type": "code",
   "execution_count": 9,
   "metadata": {},
   "outputs": [
    {
     "data": {
      "text/plain": [
       "True"
      ]
     },
     "execution_count": 9,
     "metadata": {},
     "output_type": "execute_result"
    }
   ],
   "source": [
    "char = 'ཽ'\n",
    "isNSM(char)"
   ]
  },
  {
   "cell_type": "code",
   "execution_count": 10,
   "metadata": {},
   "outputs": [],
   "source": [
    "#export\n",
    "def get_first_char_idx(text, char):\n",
    "    \"\"\"Return first char idx in `text` and -1 of not found\n",
    "\n",
    "    found har idx is expanded for whitespces after the char.\n",
    "    \"\"\"\n",
    "    is_char_found = False\n",
    "    idx = -1\n",
    "    for i in range(len(text)):\n",
    "        if not is_char_found and text[i] == char:\n",
    "            is_char_found = True\n",
    "            idx = i\n",
    "        elif is_char_found:\n",
    "            if text[i] != ' ': return i-1\n",
    "            elif i == len(text)-1: return i\n",
    "    return idx"
   ]
  },
  {
   "cell_type": "code",
   "execution_count": 11,
   "metadata": {},
   "outputs": [
    {
     "name": "stdout",
     "output_type": "stream",
     "text": [
      "'01|  ' '5'\n",
      "'01|  '\n"
     ]
    }
   ],
   "source": [
    "string = '01|  567 9'\n",
    "idx = get_first_char_idx(string, '|')\n",
    "print(repr(string[:idx+1]), repr(string[idx+1]))\n",
    "\n",
    "string = '01|  '\n",
    "idx = get_first_char_idx(string, '|')\n",
    "print(repr(string[:idx+1]))"
   ]
  },
  {
   "cell_type": "code",
   "execution_count": 12,
   "metadata": {},
   "outputs": [],
   "source": [
    "#export\n",
    "def parse_double_tsek(text):\n",
    "    double_tsek_idxs = []\n",
    "    base_char_idx = 0\n",
    "    for c in text:\n",
    "        if c == config.double_tsek_sym:\n",
    "            double_tsek_idxs.append(base_char_idx)\n",
    "            continue\n",
    "        base_char_idx += 1\n",
    "    return double_tsek_idxs\n",
    "\n",
    "def adjust_next_diff(i, diffs, ann_text, to_char):\n",
    "    diff_mode, diff_chunk = diffs[i+1]\n",
    "    # add chars till next tsek to the ann_text\n",
    "    first_char_idx = get_first_char_idx(diff_chunk, to_char)\n",
    "    ann_text += diff_chunk[:first_char_idx+1]\n",
    "    # remove chars till next tsek from diff[i+1]\n",
    "    diffs[i+1] = (diff_mode, diff_chunk[first_char_idx+1:])\n",
    "    return ann_text\n",
    "\n",
    "\n",
    "def transfer_dtsek(base_text, dest_text, verbose=False):\n",
    "    ann_text = ''\n",
    "    diffs = list(dmp.diff_main(dest_text, base_text))\n",
    "    if verbose: print(diffs)\n",
    "    for i in range(len(diffs)):\n",
    "        if diffs[i][0] == -1:\n",
    "            if config.double_tsek_sym in diffs[i][1]:\n",
    "                # check for next diff adjustment\n",
    "                if i < len(diffs)-1:\n",
    "                    # adjust next diff[i+1] if it's first char is NSM\n",
    "                    if isNSM(diffs[i+1][1][0]):\n",
    "                        ann_text = adjust_next_diff(i, diffs, ann_text, config.tsek)\n",
    "\n",
    "                    # adjust next diff[i+1] if it's first char in tsek\n",
    "                    elif diffs[i+1][1][0] == config.tsek:\n",
    "                        ann_text = adjust_next_diff(i, diffs, ann_text, config.tsek)\n",
    "\n",
    "                    # adjust next diff[i+1] if it's first char in shed\n",
    "                    elif diffs[i+1][1][0] == config.shed:\n",
    "                        ann_text = adjust_next_diff(i, diffs, ann_text, config.shed)\n",
    "\n",
    "                    # adjust next diff[i+1] if its first char is line return\n",
    "                    elif diffs[i+1][1][0] == '\\n':\n",
    "                        ann_text = adjust_next_diff(i, diffs, ann_text, '\\n')\n",
    "\n",
    "                if len(diffs[i][1]) == 1:\n",
    "                    ann_text += diffs[i][1]\n",
    "                else:\n",
    "                    ann_text += '$'\n",
    "        else:\n",
    "            if verbose: print(diffs[i])\n",
    "            ann_text += diffs[i][1]\n",
    "    double_tsek_idxs = parse_double_tsek(ann_text)\n",
    "    print(f'\\t- Transferred {len(double_tsek_idxs)} out of {dest_text.count(config.double_tsek_sym)}')\n",
    "    return double_tsek_idxs, ann_text"
   ]
  },
  {
   "cell_type": "code",
   "execution_count": 13,
   "metadata": {},
   "outputs": [
    {
     "name": "stdout",
     "output_type": "stream",
     "text": [
      "\t- Transferred 1 out of 1\n"
     ]
    },
    {
     "data": {
      "text/plain": [
       "([9], 'དེ་ནས་ཀཽ་$ཤཱཾ་བཱི་ན་གནས་')"
      ]
     },
     "execution_count": 13,
     "metadata": {},
     "output_type": "execute_result"
    }
   ],
   "source": [
    "#NSM case\n",
    "p_text = 'དེ་ནས་ཀོ$ཧཱུཾ་བཱི་ན་'\n",
    "d_text = 'དེ་ནས་ཀཽ་ཤཱཾ་བཱི་ན་གནས་'\n",
    "transfer_dtsek(d_text, p_text)"
   ]
  },
  {
   "cell_type": "code",
   "execution_count": 14,
   "metadata": {},
   "outputs": [
    {
     "name": "stdout",
     "output_type": "stream",
     "text": [
      "\t- Transferred 1 out of 1\n"
     ]
    },
    {
     "data": {
      "text/plain": [
       "([7], 'རིག་པས་$མ་རིག་པའི་སྒོ་')"
      ]
     },
     "execution_count": 14,
     "metadata": {},
     "output_type": "execute_result"
    }
   ],
   "source": [
    "# adjust marker which is diffed before tsek\n",
    "p_text = 'རིག་པས$༔མ་རིག་པའི་སྒོ་'\n",
    "d_text = 'རིག་པས་མ་རིག་པའི་སྒོ་'\n",
    "transfer_dtsek(d_text, p_text)"
   ]
  },
  {
   "cell_type": "code",
   "execution_count": 15,
   "metadata": {},
   "outputs": [
    {
     "name": "stdout",
     "output_type": "stream",
     "text": [
      "\t- Transferred 1 out of 1\n"
     ]
    },
    {
     "data": {
      "text/plain": [
       "([5], '་ནི། $ལྷ་སྦྱིན་འདི་ཉིད་')"
      ]
     },
     "execution_count": 15,
     "metadata": {},
     "output_type": "execute_result"
    }
   ],
   "source": [
    "p_text = 'ནི༑$ལྷ་སྦྱིན་འདི་ཉིད་'\n",
    "d_text = '་ནི། ལྷ་སྦྱིན་འདི་ཉིད་'\n",
    "transfer_dtsek(d_text, p_text)"
   ]
  },
  {
   "cell_type": "code",
   "execution_count": 16,
   "metadata": {},
   "outputs": [
    {
     "name": "stdout",
     "output_type": "stream",
     "text": [
      "\t- Transferred 1 out of 1\n"
     ]
    },
    {
     "data": {
      "text/plain": [
       "([7], 'ཟད་དེ།\\n$ད་ནི་དེ་')"
      ]
     },
     "execution_count": 16,
     "metadata": {},
     "output_type": "execute_result"
    }
   ],
   "source": [
    "p_text = 'ཟད་དེ། $ད་ནི་དེ་'\n",
    "d_text = 'ཟད་དེ།\\nད་ནི་དེ་'\n",
    "transfer_dtsek(d_text, p_text)"
   ]
  },
  {
   "cell_type": "code",
   "execution_count": 17,
   "metadata": {},
   "outputs": [
    {
     "name": "stdout",
     "output_type": "stream",
     "text": [
      "[(0, 'ང་ཚི'), (-1, 'ps$'), (0, 'ལ། །')]\n",
      "(0, 'ང་ཚི')\n",
      "(0, 'ལ། །')\n",
      "\t- Transferred 1 out of 1\n"
     ]
    },
    {
     "data": {
      "text/plain": [
       "([4], 'ང་ཚི$ལ། །')"
      ]
     },
     "execution_count": 17,
     "metadata": {},
     "output_type": "execute_result"
    }
   ],
   "source": [
    "p_text = 'ང་ཚིps$ལ། །'\n",
    "d_text = 'ང་ཚིལ། །'\n",
    "transfer_dtsek(d_text, p_text, verbose=True)"
   ]
  },
  {
   "cell_type": "code",
   "execution_count": 18,
   "metadata": {},
   "outputs": [
    {
     "name": "stdout",
     "output_type": "stream",
     "text": [
      "\t- Transferred 2 out of 2\n"
     ]
    },
    {
     "data": {
      "text/plain": [
       "([290, 329],\n",
       " '༄༅༅། །རྒྱ་གར་སྐད་དུ། ཀརྨ་ཤ་ཏ་ཀ། བོད་སྐད་དུ། ལས་བརྒྱ་ཐམ་པ་པ། བམ་པོ་དང་པོ། ཐམས་ཅད་མཁྱེན་པ་ལ་ཕྱག་འཚལ་ལོ། །གང་ལས་འཇིག་རྟེན་བླ་མ་བདེ་གཤེགས་ཐོས་པའི་སྒོ་ནས་རབ་སྙན་བརྟན་པའི་གསུང་ལྡན་གྱིས། །སེམས་ཅན་རྣམས་ལ་ཕན་པ་འབའ་ཞིག་བཞེད་ཕྱིར་བཤད་པ་རྣམ་པ་སྣ་ཚོགས་རང་ཉིད་ཀྱིས། །ལོག་པར་ལྟ་བའི་མུན་ནག་ཆེན་པོ་ཐིབས་པོར་$འཐོམས་ཤིང་འཁྲུགས་པ་རྣམས་ལ་རབ་གསུངས་པ། །$དེ་ཡི་མིང་ནི་ལས་རྣམ་བརྒྱ་པ་ཞེས་བྱ་ཡོངས་སུ་ཚང་བ་བདག་གིས་བཤད་ཀྱིས་ཉོན། །སྤྱི་སྡོམ་ནི། ཁྱི་མོ་དང་ནི་ཤིང་རྟ་དང་། །ཀ་ཙང་ཀ་ལ་བྱམས་མི་སྡུག །བྱ་དང་འཕྱེ་བོ་གང་པོ་དང་། །བུ་རྣམས་དང་ནི་བརྒྱ་བྱིན་ནོ། །སྡོམ་ནི། ཁྱི་མོ་མིག་ཆུང་')"
      ]
     },
     "execution_count": 18,
     "metadata": {},
     "output_type": "execute_result"
    }
   ],
   "source": [
    "pedurma_ann_text = 'ལས་བརྒྱ་ཐམ་པ་པ། ༄༅། །རྒྱ་གར་སྐད་དུ། ཀརྨ་ཤ་ཏ་ཀ། བོད་སྐད་དུ། ལས་བརྒྱ་ཐམ་པ་པོ། བམ་པོ་དང་པོ། ཐམས་ཅད་མཁྱེན་པ་ལ་ཕྱག་འཚལ་ལོ། །གང་ལས་འཇིག་རྟེན་བླ་མ་བདེ་གཤེགས་ཐོས་པའི་སྒོ་ནས་རབ་སྙན་བརྟན་པའི་གསུང་་་་ལྡན་གྱིས། །སེམས་ཅན་རྣམས་ལ་ཕན་པ་འབའ་ཞིག་བཞེད་ཕྱིར་བཤད་པ་རྣམ་པ་སྣ་ཚོགས་རང་ཉིད་ཀྱིས། །ལོག་པར་ལྟ་བའི་མུན་ནག་ཆེན་པོ་ཐིབས་པོར་$འཐོམས་ཤིངའཁྲུགས་པ་རྣམས་ལ་རབ་གསུངས་པ། །$དེ་ཡི་མིང་ནི་ལས་རྣམ་བརྒྱ་པ་ཞེས་བྱ་ཡོངས་སུ་ཚང་བ་བདག་གིས་བཤད་ཀྱིས་ཉོན། །སྤྱི་སྡོམ་ནི༑ཁྱི་མོ་དང་ནི་ཤིང་རྟ་དང་། །ཀ་ཙང་ཀ་ལ་བྱམས་མི་སྡུག། བྱ་དང་འཕྱེ་བོ་གང་པོ་དང་། །བུ་རྣམས་དང་ནི་བརྒྱ་བྱིན་ནོ། །སྡོམ་ནི།'\n",
    "derge_text = '༄༅༅། །རྒྱ་གར་སྐད་དུ། ཀརྨ་ཤ་ཏ་ཀ། བོད་སྐད་དུ། ལས་བརྒྱ་ཐམ་པ་པ། བམ་པོ་དང་པོ། ཐམས་ཅད་མཁྱེན་པ་ལ་ཕྱག་འཚལ་ལོ། །གང་ལས་འཇིག་རྟེན་བླ་མ་བདེ་གཤེགས་ཐོས་པའི་སྒོ་ནས་རབ་སྙན་བརྟན་པའི་གསུང་ལྡན་གྱིས། །སེམས་ཅན་རྣམས་ལ་ཕན་པ་འབའ་ཞིག་བཞེད་ཕྱིར་བཤད་པ་རྣམ་པ་སྣ་ཚོགས་རང་ཉིད་ཀྱིས། །ལོག་པར་ལྟ་བའི་མུན་ནག་ཆེན་པོ་ཐིབས་པོར་འཐོམས་ཤིང་འཁྲུགས་པ་རྣམས་ལ་རབ་གསུངས་པ། །དེ་ཡི་མིང་ནི་ལས་རྣམ་བརྒྱ་པ་ཞེས་བྱ་ཡོངས་སུ་ཚང་བ་བདག་གིས་བཤད་ཀྱིས་ཉོན། །སྤྱི་སྡོམ་ནི། ཁྱི་མོ་དང་ནི་ཤིང་རྟ་དང་། །ཀ་ཙང་ཀ་ལ་བྱམས་མི་སྡུག །བྱ་དང་འཕྱེ་བོ་གང་པོ་དང་། །བུ་རྣམས་དང་ནི་བརྒྱ་བྱིན་ནོ། །སྡོམ་ནི། ཁྱི་མོ་མིག་ཆུང་'\n",
    "transfer_dtsek(derge_text, pedurma_ann_text)"
   ]
  },
  {
   "cell_type": "code",
   "execution_count": 29,
   "metadata": {},
   "outputs": [],
   "source": [
    "#export\n",
    "def _run(fns):\n",
    "    pedurma_base_fn, ocr_dtsek_fn = fns\n",
    "    pedurma_dtsek_dir = ocr_dtsek_fn.parent.parent / \"pedurma_dtseks\"\n",
    "    pedurma_dtsek_fn = pedurma_dtsek_dir / pedurma_base_fn.name\n",
    "    print(\"Transfering \", pedurma_dtsek_fn.stem)\n",
    "    _, pedurma_dtsek = transfer_dtsek(pedurma_base_fn.read_text(), ocr_dtsek_fn.read_text())\n",
    "    pedurma_dtsek_fn.write_text(pedurma_dtsek)\n",
    "            \n",
    "def transfer_dtseks_to_pedurma(replace=False):\n",
    "    def _filter_completed(fns):\n",
    "        result = []\n",
    "        for (pedurma_base_fn, ocr_dtsek_fn) in fns:\n",
    "            pedurma_dtsek_fn = pedurma_dtsek_dir / pedurma_base_fn.name\n",
    "            if pedurma_dtsek_fn.is_file():\n",
    "                print(pedurma_dtsek_fn.stem, \" completed\")\n",
    "                continue\n",
    "            result.append((pedurma_base_fn, ocr_dtsek_fn))\n",
    "        return result\n",
    "    \n",
    "    \n",
    "    \"Returns pedurma base and ocr dobule tsek\"\n",
    "    pedurma_base_dir = config.op_pechas_path / config.p_pecha_id / f\"{config.p_pecha_id}.opf\" / \"base\"\n",
    "    pecha_base_fns = sorted(pedurma_base_dir.iterdir())\n",
    "    ocr_dtsek_fns = sorted([fn for fn in config.pedurma_output_path.iterdir() if fn.is_file()])\n",
    "    \n",
    "    pedurma_dtsek_dir = config.pedurma_output_path.parent / \"pedurma_dtseks\"\n",
    "    pedurma_dtsek_dir.mkdir(exist_ok=True, parents=True)\n",
    "    fns = zip(pecha_base_fns, ocr_dtsek_fns)\n",
    "    if not replace: fns = _filter_completed(fns)\n",
    "    parallel(_run, fns)"
   ]
  },
  {
   "cell_type": "code",
   "execution_count": 19,
   "metadata": {
    "scrolled": false
   },
   "outputs": [
    {
     "name": "stdout",
     "output_type": "stream",
     "text": [
      "v001  completed\n",
      "v002  completed\n",
      "v003  completed\n",
      "v004  completed\n",
      "v005  completed\n",
      "v006  completed\n",
      "v007  completed\n",
      "v008  completed\n",
      "v009  completed\n",
      "v010  completed\n",
      "v011  completed\n",
      "v012  completed\n",
      "v013  completed\n",
      "v014  completed\n",
      "v015  completed\n",
      "v016  completed\n",
      "v017  completed\n",
      "v018  completed\n",
      "v019  completed\n",
      "v020  completed\n",
      "v021  completed\n",
      "v022  completed\n",
      "v023  completed\n",
      "v024  completed\n",
      "v025  completed\n",
      "v026  completed\n",
      "v027  completed\n",
      "v028  completed\n",
      "v029  completed\n",
      "v030  completed\n",
      "v031  completed\n",
      "v032  completed\n",
      "v033  completed\n",
      "v034  completed\n",
      "v035  completed\n",
      "v036  completed\n",
      "v037  completed\n",
      "v038  completed\n",
      "v039  completed\n",
      "v040  completed\n",
      "v041  completed\n",
      "v042  completed\n",
      "v043  completed\n",
      "v044  completed\n",
      "v045  completed\n",
      "v046  completed\n",
      "v047  completed\n",
      "v048  completed\n",
      "v049  completed\n",
      "v050  completed\n",
      "v051  completed\n",
      "Transfering  v052\n",
      "Transfering  v053\n",
      "Transfering  v054\n",
      "Transfering  v055\n"
     ]
    },
    {
     "name": "stderr",
     "output_type": "stream",
     "text": [
      "Process Process-10:\n",
      "Process Process-8:\n",
      "Process Process-7:\n",
      "Process Process-9:\n",
      "Traceback (most recent call last):\n",
      "Traceback (most recent call last):\n",
      "Traceback (most recent call last):\n",
      "Traceback (most recent call last):\n",
      "  File \"/usr/lib/python3.6/multiprocessing/process.py\", line 258, in _bootstrap\n",
      "    self.run()\n",
      "  File \"/usr/lib/python3.6/multiprocessing/process.py\", line 258, in _bootstrap\n",
      "    self.run()\n",
      "  File \"/usr/lib/python3.6/multiprocessing/process.py\", line 258, in _bootstrap\n",
      "    self.run()\n",
      "  File \"/usr/lib/python3.6/multiprocessing/process.py\", line 258, in _bootstrap\n",
      "    self.run()\n",
      "  File \"/usr/lib/python3.6/multiprocessing/process.py\", line 93, in run\n",
      "    self._target(*self._args, **self._kwargs)\n",
      "  File \"/usr/lib/python3.6/multiprocessing/process.py\", line 93, in run\n",
      "    self._target(*self._args, **self._kwargs)\n",
      "  File \"/usr/lib/python3.6/concurrent/futures/process.py\", line 169, in _process_worker\n",
      "    call_item = call_queue.get(block=True)\n",
      "  File \"/usr/lib/python3.6/concurrent/futures/process.py\", line 169, in _process_worker\n",
      "    call_item = call_queue.get(block=True)\n",
      "  File \"/usr/lib/python3.6/multiprocessing/process.py\", line 93, in run\n",
      "    self._target(*self._args, **self._kwargs)\n",
      "  File \"/usr/lib/python3.6/multiprocessing/queues.py\", line 113, in get\n",
      "    return _ForkingPickler.loads(res)\n",
      "  File \"/usr/lib/python3.6/multiprocessing/process.py\", line 93, in run\n",
      "    self._target(*self._args, **self._kwargs)\n",
      "  File \"/usr/lib/python3.6/multiprocessing/queues.py\", line 113, in get\n",
      "    return _ForkingPickler.loads(res)\n",
      "  File \"/usr/lib/python3.6/concurrent/futures/process.py\", line 169, in _process_worker\n",
      "    call_item = call_queue.get(block=True)\n",
      "  File \"/usr/lib/python3.6/concurrent/futures/process.py\", line 169, in _process_worker\n",
      "    call_item = call_queue.get(block=True)\n",
      "  File \"/usr/lib/python3.6/multiprocessing/managers.py\", line 881, in RebuildProxy\n",
      "    return func(token, serializer, incref=incref, **kwds)\n",
      "  File \"/usr/lib/python3.6/multiprocessing/managers.py\", line 881, in RebuildProxy\n",
      "    return func(token, serializer, incref=incref, **kwds)\n",
      "  File \"/usr/lib/python3.6/multiprocessing/queues.py\", line 113, in get\n",
      "    return _ForkingPickler.loads(res)\n",
      "  File \"/usr/lib/python3.6/multiprocessing/managers.py\", line 731, in __init__\n",
      "    self._incref()\n",
      "  File \"/usr/lib/python3.6/multiprocessing/queues.py\", line 113, in get\n",
      "    return _ForkingPickler.loads(res)\n",
      "  File \"/usr/lib/python3.6/multiprocessing/connection.py\", line 487, in Client\n",
      "    c = SocketClient(address)\n",
      "  File \"/usr/lib/python3.6/multiprocessing/managers.py\", line 731, in __init__\n",
      "    self._incref()\n",
      "  File \"/usr/lib/python3.6/multiprocessing/managers.py\", line 785, in _incref\n",
      "    conn = self._Client(self._token.address, authkey=self._authkey)\n",
      "  File \"/usr/lib/python3.6/multiprocessing/managers.py\", line 785, in _incref\n",
      "    conn = self._Client(self._token.address, authkey=self._authkey)\n",
      "  File \"/usr/lib/python3.6/multiprocessing/managers.py\", line 881, in RebuildProxy\n",
      "    return func(token, serializer, incref=incref, **kwds)\n",
      "  File \"/usr/lib/python3.6/multiprocessing/managers.py\", line 881, in RebuildProxy\n",
      "    return func(token, serializer, incref=incref, **kwds)\n",
      "  File \"/usr/lib/python3.6/multiprocessing/connection.py\", line 614, in SocketClient\n",
      "    s.connect(address)\n",
      "  File \"/usr/lib/python3.6/multiprocessing/managers.py\", line 731, in __init__\n",
      "    self._incref()\n",
      "FileNotFoundError: [Errno 2] No such file or directory\n",
      "  File \"/usr/lib/python3.6/multiprocessing/connection.py\", line 487, in Client\n",
      "    c = SocketClient(address)\n",
      "  File \"/usr/lib/python3.6/multiprocessing/managers.py\", line 731, in __init__\n",
      "    self._incref()\n",
      "  File \"/usr/lib/python3.6/multiprocessing/managers.py\", line 785, in _incref\n",
      "    conn = self._Client(self._token.address, authkey=self._authkey)\n",
      "  File \"/usr/lib/python3.6/multiprocessing/connection.py\", line 614, in SocketClient\n",
      "    s.connect(address)\n"
     ]
    },
    {
     "ename": "KeyboardInterrupt",
     "evalue": "",
     "output_type": "error",
     "traceback": [
      "\u001b[0;31m---------------------------------------------------------------------------\u001b[0m",
      "\u001b[0;31mKeyboardInterrupt\u001b[0m                         Traceback (most recent call last)",
      "\u001b[0;32m<ipython-input-19-19264a2316bf>\u001b[0m in \u001b[0;36m<module>\u001b[0;34m\u001b[0m\n\u001b[0;32m----> 1\u001b[0;31m \u001b[0mtransfer_dtseks_to_pedurma\u001b[0m\u001b[0;34m(\u001b[0m\u001b[0;34m)\u001b[0m\u001b[0;34m\u001b[0m\u001b[0;34m\u001b[0m\u001b[0m\n\u001b[0m",
      "\u001b[0;32m<ipython-input-17-ee6e8fc22cdc>\u001b[0m in \u001b[0;36mtransfer_dtseks_to_pedurma\u001b[0;34m(replace)\u001b[0m\n\u001b[1;32m     28\u001b[0m     \u001b[0mfns\u001b[0m \u001b[0;34m=\u001b[0m \u001b[0mzip\u001b[0m\u001b[0;34m(\u001b[0m\u001b[0mpecha_base_fns\u001b[0m\u001b[0;34m,\u001b[0m \u001b[0mocr_dtsek_fns\u001b[0m\u001b[0;34m)\u001b[0m\u001b[0;34m\u001b[0m\u001b[0;34m\u001b[0m\u001b[0m\n\u001b[1;32m     29\u001b[0m     \u001b[0;32mif\u001b[0m \u001b[0;32mnot\u001b[0m \u001b[0mreplace\u001b[0m\u001b[0;34m:\u001b[0m \u001b[0mfns\u001b[0m \u001b[0;34m=\u001b[0m \u001b[0m_filter_completed\u001b[0m\u001b[0;34m(\u001b[0m\u001b[0mfns\u001b[0m\u001b[0;34m)\u001b[0m\u001b[0;34m\u001b[0m\u001b[0;34m\u001b[0m\u001b[0m\n\u001b[0;32m---> 30\u001b[0;31m     \u001b[0mparallel\u001b[0m\u001b[0;34m(\u001b[0m\u001b[0m_run\u001b[0m\u001b[0;34m,\u001b[0m \u001b[0mfns\u001b[0m\u001b[0;34m)\u001b[0m\u001b[0;34m\u001b[0m\u001b[0;34m\u001b[0m\u001b[0m\n\u001b[0m",
      "\u001b[0;32m~/ML/env/lib/python3.6/site-packages/fastcore/parallel.py\u001b[0m in \u001b[0;36mparallel\u001b[0;34m(f, items, n_workers, total, progress, pause, threadpool, timeout, chunksize, *args, **kwargs)\u001b[0m\n\u001b[1;32m    104\u001b[0m             \u001b[0;32mif\u001b[0m \u001b[0mtotal\u001b[0m \u001b[0;32mis\u001b[0m \u001b[0;32mNone\u001b[0m\u001b[0;34m:\u001b[0m \u001b[0mtotal\u001b[0m \u001b[0;34m=\u001b[0m \u001b[0mlen\u001b[0m\u001b[0;34m(\u001b[0m\u001b[0mitems\u001b[0m\u001b[0;34m)\u001b[0m\u001b[0;34m\u001b[0m\u001b[0;34m\u001b[0m\u001b[0m\n\u001b[1;32m    105\u001b[0m             \u001b[0mr\u001b[0m \u001b[0;34m=\u001b[0m \u001b[0mprogress_bar\u001b[0m\u001b[0;34m(\u001b[0m\u001b[0mr\u001b[0m\u001b[0;34m,\u001b[0m \u001b[0mtotal\u001b[0m\u001b[0;34m=\u001b[0m\u001b[0mtotal\u001b[0m\u001b[0;34m,\u001b[0m \u001b[0mleave\u001b[0m\u001b[0;34m=\u001b[0m\u001b[0;32mFalse\u001b[0m\u001b[0;34m)\u001b[0m\u001b[0;34m\u001b[0m\u001b[0;34m\u001b[0m\u001b[0m\n\u001b[0;32m--> 106\u001b[0;31m         \u001b[0;32mreturn\u001b[0m \u001b[0mL\u001b[0m\u001b[0;34m(\u001b[0m\u001b[0mr\u001b[0m\u001b[0;34m)\u001b[0m\u001b[0;34m\u001b[0m\u001b[0;34m\u001b[0m\u001b[0m\n\u001b[0m\u001b[1;32m    107\u001b[0m \u001b[0;34m\u001b[0m\u001b[0m\n\u001b[1;32m    108\u001b[0m \u001b[0;31m# Cell\u001b[0m\u001b[0;34m\u001b[0m\u001b[0;34m\u001b[0m\u001b[0;34m\u001b[0m\u001b[0m\n",
      "\u001b[0;32m~/ML/env/lib/python3.6/site-packages/fastcore/foundation.py\u001b[0m in \u001b[0;36m__call__\u001b[0;34m(cls, x, *args, **kwargs)\u001b[0m\n\u001b[1;32m     95\u001b[0m     \u001b[0;32mdef\u001b[0m \u001b[0m__call__\u001b[0m\u001b[0;34m(\u001b[0m\u001b[0mcls\u001b[0m\u001b[0;34m,\u001b[0m \u001b[0mx\u001b[0m\u001b[0;34m=\u001b[0m\u001b[0;32mNone\u001b[0m\u001b[0;34m,\u001b[0m \u001b[0;34m*\u001b[0m\u001b[0margs\u001b[0m\u001b[0;34m,\u001b[0m \u001b[0;34m**\u001b[0m\u001b[0mkwargs\u001b[0m\u001b[0;34m)\u001b[0m\u001b[0;34m:\u001b[0m\u001b[0;34m\u001b[0m\u001b[0;34m\u001b[0m\u001b[0m\n\u001b[1;32m     96\u001b[0m         \u001b[0;32mif\u001b[0m \u001b[0;32mnot\u001b[0m \u001b[0margs\u001b[0m \u001b[0;32mand\u001b[0m \u001b[0;32mnot\u001b[0m \u001b[0mkwargs\u001b[0m \u001b[0;32mand\u001b[0m \u001b[0mx\u001b[0m \u001b[0;32mis\u001b[0m \u001b[0;32mnot\u001b[0m \u001b[0;32mNone\u001b[0m \u001b[0;32mand\u001b[0m \u001b[0misinstance\u001b[0m\u001b[0;34m(\u001b[0m\u001b[0mx\u001b[0m\u001b[0;34m,\u001b[0m\u001b[0mcls\u001b[0m\u001b[0;34m)\u001b[0m\u001b[0;34m:\u001b[0m \u001b[0;32mreturn\u001b[0m \u001b[0mx\u001b[0m\u001b[0;34m\u001b[0m\u001b[0;34m\u001b[0m\u001b[0m\n\u001b[0;32m---> 97\u001b[0;31m         \u001b[0;32mreturn\u001b[0m \u001b[0msuper\u001b[0m\u001b[0;34m(\u001b[0m\u001b[0;34m)\u001b[0m\u001b[0;34m.\u001b[0m\u001b[0m__call__\u001b[0m\u001b[0;34m(\u001b[0m\u001b[0mx\u001b[0m\u001b[0;34m,\u001b[0m \u001b[0;34m*\u001b[0m\u001b[0margs\u001b[0m\u001b[0;34m,\u001b[0m \u001b[0;34m**\u001b[0m\u001b[0mkwargs\u001b[0m\u001b[0;34m)\u001b[0m\u001b[0;34m\u001b[0m\u001b[0;34m\u001b[0m\u001b[0m\n\u001b[0m\u001b[1;32m     98\u001b[0m \u001b[0;34m\u001b[0m\u001b[0m\n\u001b[1;32m     99\u001b[0m \u001b[0;31m# Cell\u001b[0m\u001b[0;34m\u001b[0m\u001b[0;34m\u001b[0m\u001b[0;34m\u001b[0m\u001b[0m\n",
      "\u001b[0;32m~/ML/env/lib/python3.6/site-packages/fastcore/foundation.py\u001b[0m in \u001b[0;36m__init__\u001b[0;34m(self, items, use_list, match, *rest)\u001b[0m\n\u001b[1;32m    103\u001b[0m     \u001b[0;32mdef\u001b[0m \u001b[0m__init__\u001b[0m\u001b[0;34m(\u001b[0m\u001b[0mself\u001b[0m\u001b[0;34m,\u001b[0m \u001b[0mitems\u001b[0m\u001b[0;34m=\u001b[0m\u001b[0;32mNone\u001b[0m\u001b[0;34m,\u001b[0m \u001b[0;34m*\u001b[0m\u001b[0mrest\u001b[0m\u001b[0;34m,\u001b[0m \u001b[0muse_list\u001b[0m\u001b[0;34m=\u001b[0m\u001b[0;32mFalse\u001b[0m\u001b[0;34m,\u001b[0m \u001b[0mmatch\u001b[0m\u001b[0;34m=\u001b[0m\u001b[0;32mNone\u001b[0m\u001b[0;34m)\u001b[0m\u001b[0;34m:\u001b[0m\u001b[0;34m\u001b[0m\u001b[0;34m\u001b[0m\u001b[0m\n\u001b[1;32m    104\u001b[0m         \u001b[0;32mif\u001b[0m \u001b[0;34m(\u001b[0m\u001b[0muse_list\u001b[0m \u001b[0;32mis\u001b[0m \u001b[0;32mnot\u001b[0m \u001b[0;32mNone\u001b[0m\u001b[0;34m)\u001b[0m \u001b[0;32mor\u001b[0m \u001b[0;32mnot\u001b[0m \u001b[0mis_array\u001b[0m\u001b[0;34m(\u001b[0m\u001b[0mitems\u001b[0m\u001b[0;34m)\u001b[0m\u001b[0;34m:\u001b[0m\u001b[0;34m\u001b[0m\u001b[0;34m\u001b[0m\u001b[0m\n\u001b[0;32m--> 105\u001b[0;31m             \u001b[0mitems\u001b[0m \u001b[0;34m=\u001b[0m \u001b[0mlistify\u001b[0m\u001b[0;34m(\u001b[0m\u001b[0mitems\u001b[0m\u001b[0;34m,\u001b[0m \u001b[0;34m*\u001b[0m\u001b[0mrest\u001b[0m\u001b[0;34m,\u001b[0m \u001b[0muse_list\u001b[0m\u001b[0;34m=\u001b[0m\u001b[0muse_list\u001b[0m\u001b[0;34m,\u001b[0m \u001b[0mmatch\u001b[0m\u001b[0;34m=\u001b[0m\u001b[0mmatch\u001b[0m\u001b[0;34m)\u001b[0m\u001b[0;34m\u001b[0m\u001b[0;34m\u001b[0m\u001b[0m\n\u001b[0m\u001b[1;32m    106\u001b[0m         \u001b[0msuper\u001b[0m\u001b[0;34m(\u001b[0m\u001b[0;34m)\u001b[0m\u001b[0;34m.\u001b[0m\u001b[0m__init__\u001b[0m\u001b[0;34m(\u001b[0m\u001b[0mitems\u001b[0m\u001b[0;34m)\u001b[0m\u001b[0;34m\u001b[0m\u001b[0;34m\u001b[0m\u001b[0m\n\u001b[1;32m    107\u001b[0m \u001b[0;34m\u001b[0m\u001b[0m\n",
      "\u001b[0;32m~/ML/env/lib/python3.6/site-packages/fastcore/basics.py\u001b[0m in \u001b[0;36mlistify\u001b[0;34m(o, use_list, match, *rest)\u001b[0m\n\u001b[1;32m     54\u001b[0m     \u001b[0;32melif\u001b[0m \u001b[0misinstance\u001b[0m\u001b[0;34m(\u001b[0m\u001b[0mo\u001b[0m\u001b[0;34m,\u001b[0m \u001b[0mlist\u001b[0m\u001b[0;34m)\u001b[0m\u001b[0;34m:\u001b[0m \u001b[0mres\u001b[0m \u001b[0;34m=\u001b[0m \u001b[0mo\u001b[0m\u001b[0;34m\u001b[0m\u001b[0;34m\u001b[0m\u001b[0m\n\u001b[1;32m     55\u001b[0m     \u001b[0;32melif\u001b[0m \u001b[0misinstance\u001b[0m\u001b[0;34m(\u001b[0m\u001b[0mo\u001b[0m\u001b[0;34m,\u001b[0m \u001b[0mstr\u001b[0m\u001b[0;34m)\u001b[0m \u001b[0;32mor\u001b[0m \u001b[0mis_array\u001b[0m\u001b[0;34m(\u001b[0m\u001b[0mo\u001b[0m\u001b[0;34m)\u001b[0m\u001b[0;34m:\u001b[0m \u001b[0mres\u001b[0m \u001b[0;34m=\u001b[0m \u001b[0;34m[\u001b[0m\u001b[0mo\u001b[0m\u001b[0;34m]\u001b[0m\u001b[0;34m\u001b[0m\u001b[0;34m\u001b[0m\u001b[0m\n\u001b[0;32m---> 56\u001b[0;31m     \u001b[0;32melif\u001b[0m \u001b[0mis_iter\u001b[0m\u001b[0;34m(\u001b[0m\u001b[0mo\u001b[0m\u001b[0;34m)\u001b[0m\u001b[0;34m:\u001b[0m \u001b[0mres\u001b[0m \u001b[0;34m=\u001b[0m \u001b[0mlist\u001b[0m\u001b[0;34m(\u001b[0m\u001b[0mo\u001b[0m\u001b[0;34m)\u001b[0m\u001b[0;34m\u001b[0m\u001b[0;34m\u001b[0m\u001b[0m\n\u001b[0m\u001b[1;32m     57\u001b[0m     \u001b[0;32melse\u001b[0m\u001b[0;34m:\u001b[0m \u001b[0mres\u001b[0m \u001b[0;34m=\u001b[0m \u001b[0;34m[\u001b[0m\u001b[0mo\u001b[0m\u001b[0;34m]\u001b[0m\u001b[0;34m\u001b[0m\u001b[0;34m\u001b[0m\u001b[0m\n\u001b[1;32m     58\u001b[0m     \u001b[0;32mif\u001b[0m \u001b[0mmatch\u001b[0m \u001b[0;32mis\u001b[0m \u001b[0;32mnot\u001b[0m \u001b[0;32mNone\u001b[0m\u001b[0;34m:\u001b[0m\u001b[0;34m\u001b[0m\u001b[0;34m\u001b[0m\u001b[0m\n",
      "\u001b[0;32m/usr/lib/python3.6/concurrent/futures/process.py\u001b[0m in \u001b[0;36m_chain_from_iterable_of_lists\u001b[0;34m(iterable)\u001b[0m\n\u001b[1;32m    364\u001b[0m     \u001b[0mcareful\u001b[0m \u001b[0;32mnot\u001b[0m \u001b[0mto\u001b[0m \u001b[0mkeep\u001b[0m \u001b[0mreferences\u001b[0m \u001b[0mto\u001b[0m \u001b[0myielded\u001b[0m \u001b[0mobjects\u001b[0m\u001b[0;34m.\u001b[0m\u001b[0;34m\u001b[0m\u001b[0;34m\u001b[0m\u001b[0m\n\u001b[1;32m    365\u001b[0m     \"\"\"\n\u001b[0;32m--> 366\u001b[0;31m     \u001b[0;32mfor\u001b[0m \u001b[0melement\u001b[0m \u001b[0;32min\u001b[0m \u001b[0miterable\u001b[0m\u001b[0;34m:\u001b[0m\u001b[0;34m\u001b[0m\u001b[0;34m\u001b[0m\u001b[0m\n\u001b[0m\u001b[1;32m    367\u001b[0m         \u001b[0melement\u001b[0m\u001b[0;34m.\u001b[0m\u001b[0mreverse\u001b[0m\u001b[0;34m(\u001b[0m\u001b[0;34m)\u001b[0m\u001b[0;34m\u001b[0m\u001b[0;34m\u001b[0m\u001b[0m\n\u001b[1;32m    368\u001b[0m         \u001b[0;32mwhile\u001b[0m \u001b[0melement\u001b[0m\u001b[0;34m:\u001b[0m\u001b[0;34m\u001b[0m\u001b[0;34m\u001b[0m\u001b[0m\n",
      "\u001b[0;32m/usr/lib/python3.6/concurrent/futures/_base.py\u001b[0m in \u001b[0;36mresult_iterator\u001b[0;34m()\u001b[0m\n\u001b[1;32m    584\u001b[0m                     \u001b[0;31m# Careful not to keep a reference to the popped future\u001b[0m\u001b[0;34m\u001b[0m\u001b[0;34m\u001b[0m\u001b[0;34m\u001b[0m\u001b[0m\n\u001b[1;32m    585\u001b[0m                     \u001b[0;32mif\u001b[0m \u001b[0mtimeout\u001b[0m \u001b[0;32mis\u001b[0m \u001b[0;32mNone\u001b[0m\u001b[0;34m:\u001b[0m\u001b[0;34m\u001b[0m\u001b[0;34m\u001b[0m\u001b[0m\n\u001b[0;32m--> 586\u001b[0;31m                         \u001b[0;32myield\u001b[0m \u001b[0mfs\u001b[0m\u001b[0;34m.\u001b[0m\u001b[0mpop\u001b[0m\u001b[0;34m(\u001b[0m\u001b[0;34m)\u001b[0m\u001b[0;34m.\u001b[0m\u001b[0mresult\u001b[0m\u001b[0;34m(\u001b[0m\u001b[0;34m)\u001b[0m\u001b[0;34m\u001b[0m\u001b[0;34m\u001b[0m\u001b[0m\n\u001b[0m\u001b[1;32m    587\u001b[0m                     \u001b[0;32melse\u001b[0m\u001b[0;34m:\u001b[0m\u001b[0;34m\u001b[0m\u001b[0;34m\u001b[0m\u001b[0m\n\u001b[1;32m    588\u001b[0m                         \u001b[0;32myield\u001b[0m \u001b[0mfs\u001b[0m\u001b[0;34m.\u001b[0m\u001b[0mpop\u001b[0m\u001b[0;34m(\u001b[0m\u001b[0;34m)\u001b[0m\u001b[0;34m.\u001b[0m\u001b[0mresult\u001b[0m\u001b[0;34m(\u001b[0m\u001b[0mend_time\u001b[0m \u001b[0;34m-\u001b[0m \u001b[0mtime\u001b[0m\u001b[0;34m.\u001b[0m\u001b[0mmonotonic\u001b[0m\u001b[0;34m(\u001b[0m\u001b[0;34m)\u001b[0m\u001b[0;34m)\u001b[0m\u001b[0;34m\u001b[0m\u001b[0;34m\u001b[0m\u001b[0m\n",
      "\u001b[0;32m/usr/lib/python3.6/concurrent/futures/_base.py\u001b[0m in \u001b[0;36mresult\u001b[0;34m(self, timeout)\u001b[0m\n\u001b[1;32m    425\u001b[0m                 \u001b[0;32mreturn\u001b[0m \u001b[0mself\u001b[0m\u001b[0;34m.\u001b[0m\u001b[0m__get_result\u001b[0m\u001b[0;34m(\u001b[0m\u001b[0;34m)\u001b[0m\u001b[0;34m\u001b[0m\u001b[0;34m\u001b[0m\u001b[0m\n\u001b[1;32m    426\u001b[0m \u001b[0;34m\u001b[0m\u001b[0m\n\u001b[0;32m--> 427\u001b[0;31m             \u001b[0mself\u001b[0m\u001b[0;34m.\u001b[0m\u001b[0m_condition\u001b[0m\u001b[0;34m.\u001b[0m\u001b[0mwait\u001b[0m\u001b[0;34m(\u001b[0m\u001b[0mtimeout\u001b[0m\u001b[0;34m)\u001b[0m\u001b[0;34m\u001b[0m\u001b[0;34m\u001b[0m\u001b[0m\n\u001b[0m\u001b[1;32m    428\u001b[0m \u001b[0;34m\u001b[0m\u001b[0m\n\u001b[1;32m    429\u001b[0m             \u001b[0;32mif\u001b[0m \u001b[0mself\u001b[0m\u001b[0;34m.\u001b[0m\u001b[0m_state\u001b[0m \u001b[0;32min\u001b[0m \u001b[0;34m[\u001b[0m\u001b[0mCANCELLED\u001b[0m\u001b[0;34m,\u001b[0m \u001b[0mCANCELLED_AND_NOTIFIED\u001b[0m\u001b[0;34m]\u001b[0m\u001b[0;34m:\u001b[0m\u001b[0;34m\u001b[0m\u001b[0;34m\u001b[0m\u001b[0m\n",
      "\u001b[0;32m/usr/lib/python3.6/threading.py\u001b[0m in \u001b[0;36mwait\u001b[0;34m(self, timeout)\u001b[0m\n\u001b[1;32m    293\u001b[0m         \u001b[0;32mtry\u001b[0m\u001b[0;34m:\u001b[0m    \u001b[0;31m# restore state no matter what (e.g., KeyboardInterrupt)\u001b[0m\u001b[0;34m\u001b[0m\u001b[0;34m\u001b[0m\u001b[0m\n\u001b[1;32m    294\u001b[0m             \u001b[0;32mif\u001b[0m \u001b[0mtimeout\u001b[0m \u001b[0;32mis\u001b[0m \u001b[0;32mNone\u001b[0m\u001b[0;34m:\u001b[0m\u001b[0;34m\u001b[0m\u001b[0;34m\u001b[0m\u001b[0m\n\u001b[0;32m--> 295\u001b[0;31m                 \u001b[0mwaiter\u001b[0m\u001b[0;34m.\u001b[0m\u001b[0macquire\u001b[0m\u001b[0;34m(\u001b[0m\u001b[0;34m)\u001b[0m\u001b[0;34m\u001b[0m\u001b[0;34m\u001b[0m\u001b[0m\n\u001b[0m\u001b[1;32m    296\u001b[0m                 \u001b[0mgotit\u001b[0m \u001b[0;34m=\u001b[0m \u001b[0;32mTrue\u001b[0m\u001b[0;34m\u001b[0m\u001b[0;34m\u001b[0m\u001b[0m\n\u001b[1;32m    297\u001b[0m             \u001b[0;32melse\u001b[0m\u001b[0;34m:\u001b[0m\u001b[0;34m\u001b[0m\u001b[0;34m\u001b[0m\u001b[0m\n",
      "\u001b[0;31mKeyboardInterrupt\u001b[0m: "
     ]
    }
   ],
   "source": [
    "transfer_dtseks_to_pedurma()"
   ]
  },
  {
   "cell_type": "code",
   "execution_count": 30,
   "metadata": {},
   "outputs": [],
   "source": [
    "#export\n",
    "def post_process():\n",
    "    def _cleanup_dtseks(text):\n",
    "        text = vol_fn.read_text()\n",
    "        text = text.replace('$:', ':')\n",
    "        text = text.replace(':$', ':')\n",
    "        text = text.replace('$', ':')\n",
    "        text = text.replace('::', ':')\n",
    "        return text\n",
    "    \n",
    "    pedurma_dtsek_dir = config.pedurma_output_path.parent / \"pedurma_dtseks\"\n",
    "    for vol_fn in pedurma_dtsek_dir.iterdir():\n",
    "        print(f\"post processing {vol_fn.stem} ...\")\n",
    "        text = vol_fn.read_text()\n",
    "        text = _cleanup_dtseks(text)\n",
    "        vol_fn.write_text(text)"
   ]
  },
  {
   "cell_type": "code",
   "execution_count": 28,
   "metadata": {},
   "outputs": [
    {
     "name": "stdout",
     "output_type": "stream",
     "text": [
      "post processing v041 ...\n",
      "post processing v014 ...\n",
      "post processing v032 ...\n",
      "post processing v047 ...\n",
      "post processing v037 ...\n",
      "post processing v033 ...\n",
      "post processing v048 ...\n",
      "post processing v018 ...\n",
      "post processing v003 ...\n",
      "post processing v017 ...\n",
      "post processing v020 ...\n",
      "post processing v016 ...\n",
      "post processing v023 ...\n",
      "post processing v034 ...\n",
      "post processing v012 ...\n",
      "post processing v008 ...\n",
      "post processing v027 ...\n",
      "post processing v051 ...\n",
      "post processing v042 ...\n",
      "post processing v050 ...\n",
      "post processing v011 ...\n",
      "post processing v013 ...\n",
      "post processing v022 ...\n",
      "post processing v029 ...\n",
      "post processing v026 ...\n",
      "post processing v021 ...\n",
      "post processing v025 ...\n",
      "post processing v005 ...\n",
      "post processing v035 ...\n",
      "post processing v039 ...\n",
      "post processing v031 ...\n",
      "post processing v010 ...\n",
      "post processing v045 ...\n",
      "post processing v044 ...\n",
      "post processing v036 ...\n",
      "post processing v007 ...\n",
      "post processing v009 ...\n",
      "post processing v024 ...\n",
      "post processing v038 ...\n",
      "post processing v028 ...\n",
      "post processing v002 ...\n",
      "post processing v043 ...\n",
      "post processing v040 ...\n",
      "post processing v019 ...\n",
      "post processing v030 ...\n",
      "post processing v015 ...\n",
      "post processing v049 ...\n",
      "post processing v004 ...\n",
      "post processing v046 ...\n",
      "post processing v001 ...\n",
      "post processing v006 ...\n"
     ]
    }
   ],
   "source": [
    "post_process()"
   ]
  },
  {
   "cell_type": "code",
   "execution_count": 31,
   "metadata": {},
   "outputs": [],
   "source": [
    "#export\n",
    "def main():\n",
    "    build_pedurma_vols()\n",
    "    transfer_dtseks_to_pedurma()\n",
    "    post_process()"
   ]
  },
  {
   "cell_type": "code",
   "execution_count": 32,
   "metadata": {},
   "outputs": [
    {
     "ename": "NameError",
     "evalue": "name 'sys' is not defined",
     "output_type": "error",
     "traceback": [
      "\u001b[0;31m---------------------------------------------------------------------------\u001b[0m",
      "\u001b[0;31mNameError\u001b[0m                                 Traceback (most recent call last)",
      "\u001b[0;32m<ipython-input-32-37253230d073>\u001b[0m in \u001b[0;36m<module>\u001b[0;34m\u001b[0m\n\u001b[1;32m      1\u001b[0m \u001b[0;31m#export\u001b[0m\u001b[0;34m\u001b[0m\u001b[0;34m\u001b[0m\u001b[0;34m\u001b[0m\u001b[0m\n\u001b[1;32m      2\u001b[0m \u001b[0;32mif\u001b[0m \u001b[0m__name__\u001b[0m \u001b[0;34m==\u001b[0m \u001b[0;34m\"__main__\"\u001b[0m\u001b[0;34m:\u001b[0m\u001b[0;34m\u001b[0m\u001b[0;34m\u001b[0m\u001b[0m\n\u001b[0;32m----> 3\u001b[0;31m     \u001b[0;32mif\u001b[0m \u001b[0mlen\u001b[0m\u001b[0;34m(\u001b[0m\u001b[0msys\u001b[0m\u001b[0;34m.\u001b[0m\u001b[0margv\u001b[0m\u001b[0;34m)\u001b[0m \u001b[0;34m>\u001b[0m \u001b[0;36m1\u001b[0m \u001b[0;32mand\u001b[0m \u001b[0msys\u001b[0m\u001b[0;34m.\u001b[0m\u001b[0margv\u001b[0m\u001b[0;34m[\u001b[0m\u001b[0;36m1\u001b[0m\u001b[0;34m]\u001b[0m \u001b[0;34m==\u001b[0m \u001b[0;34m\"k\"\u001b[0m\u001b[0;34m:\u001b[0m\u001b[0;34m\u001b[0m\u001b[0;34m\u001b[0m\u001b[0m\n\u001b[0m\u001b[1;32m      4\u001b[0m         \u001b[0mconfig\u001b[0m \u001b[0;34m=\u001b[0m \u001b[0mKangyurConfig\u001b[0m\u001b[0;34m(\u001b[0m\u001b[0;34m)\u001b[0m\u001b[0;34m\u001b[0m\u001b[0;34m\u001b[0m\u001b[0m\n\u001b[1;32m      5\u001b[0m     \u001b[0;32melse\u001b[0m\u001b[0;34m:\u001b[0m\u001b[0;34m\u001b[0m\u001b[0;34m\u001b[0m\u001b[0m\n",
      "\u001b[0;31mNameError\u001b[0m: name 'sys' is not defined"
     ]
    }
   ],
   "source": [
    "#export\n",
    "if __name__ == \"__main__\":\n",
    "    if len(sys.argv) > 1 and sys.argv[1] == \"k\":\n",
    "        config = KangyurConfig()\n",
    "    else: \n",
    "        config = TengyurConfig()\n",
    "    main()"
   ]
  },
  {
   "cell_type": "code",
   "execution_count": null,
   "metadata": {},
   "outputs": [],
   "source": []
  }
 ],
 "metadata": {
  "kernelspec": {
   "display_name": "Python 3",
   "language": "python",
   "name": "python3"
  },
  "language_info": {
   "codemirror_mode": {
    "name": "ipython",
    "version": 3
   },
   "file_extension": ".py",
   "mimetype": "text/x-python",
   "name": "python",
   "nbconvert_exporter": "python",
   "pygments_lexer": "ipython3",
   "version": "3.6.7"
  },
  "toc": {
   "base_numbering": 1,
   "nav_menu": {},
   "number_sections": true,
   "sideBar": true,
   "skip_h1_title": false,
   "title_cell": "Table of Contents",
   "title_sidebar": "Contents",
   "toc_cell": false,
   "toc_position": {},
   "toc_section_display": true,
   "toc_window_display": false
  }
 },
 "nbformat": 4,
 "nbformat_minor": 2
}
