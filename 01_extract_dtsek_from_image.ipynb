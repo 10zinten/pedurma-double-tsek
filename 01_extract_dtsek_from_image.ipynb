{
 "cells": [
  {
   "cell_type": "code",
   "execution_count": 49,
   "metadata": {
    "collapsed": true
   },
   "outputs": [],
   "source": [
    "# default_exp extract_dtsek_from_image"
   ]
  },
  {
   "cell_type": "code",
   "execution_count": 4,
   "metadata": {},
   "outputs": [],
   "source": [
    "#export\n",
    "from collections import defaultdict\n",
    "import cv2\n",
    "import gzip\n",
    "import json\n",
    "import math\n",
    "from pathlib import Path\n",
    "import sys\n",
    "import re\n",
    "\n",
    "from concurrent.futures import ProcessPoolExecutor\n",
    "\n",
    "\n",
    "from MTM import matchTemplates, drawBoxesOnRGB\n",
    "import numpy as np\n",
    "from config import TengyurConfig, KangyurConfig"
   ]
  },
  {
   "cell_type": "code",
   "execution_count": 5,
   "metadata": {},
   "outputs": [
    {
     "data": {
      "text/plain": [
       "{'ocr_path': PosixPath('../img2opf/archive'),\n",
       " 'op_pechas_path': PosixPath('/home/tenzin/.openpecha/pechas'),\n",
       " 'peydurma_path': PosixPath('data/peydurma'),\n",
       " 'template_path': PosixPath('data/peydurma/templates'),\n",
       " 'output_path': PosixPath('output'),\n",
       " 'double_tsek_sym': '$',\n",
       " 'tsek': '་',\n",
       " 'shed': '།',\n",
       " 'img_size': (3969, 2641),\n",
       " 'debug': False,\n",
       " 'name': 'kangyur',\n",
       " 'work_id': 'W1PD96682',\n",
       " 'd_pecha_id': 'P000001',\n",
       " 'p_pecha_id': 'P000793',\n",
       " 'images_path': PosixPath('../img2opf/archive/images/W1PD96682'),\n",
       " 'ocr_output_path': PosixPath('../img2opf/archive/output/W1PD96682'),\n",
       " 'pedurma_output_path': PosixPath('output/kangyur/pedurma'),\n",
       " 'dergey_output_path': PosixPath('output/kangyur/dergey')}"
      ]
     },
     "execution_count": 5,
     "metadata": {},
     "output_type": "execute_result"
    }
   ],
   "source": [
    "config = KangyurConfig()\n",
    "templates = get_templates(config.template_path); len(templates)\n",
    "vars(config)"
   ]
  },
  {
   "cell_type": "code",
   "execution_count": 6,
   "metadata": {},
   "outputs": [],
   "source": [
    "import matplotlib.pyplot as plt\n",
    "import pprint\n",
    "\n",
    "pp = pprint.PrettyPrinter(indent=4)\n",
    "\n",
    "def plot(img, cmap=None, sz=(10, 10), axis=False):\n",
    "    plt.figure(figsize=sz)\n",
    "    plt.grid(True)\n",
    "    if not axis:\n",
    "        plt.axis('off')\n",
    "        plt.grid(False)\n",
    "    img = cv2.cvtColor(img, cv2.COLOR_BGR2RGB)\n",
    "    plt.imshow(img, cmap=cmap)\n",
    "    plt.show()"
   ]
  },
  {
   "cell_type": "markdown",
   "metadata": {},
   "source": [
    "# Create template"
   ]
  },
  {
   "cell_type": "code",
   "execution_count": 7,
   "metadata": {},
   "outputs": [],
   "source": [
    "# def to_box(coord):\n",
    "#     x, y, w, h = coord\n",
    "#     x2, y2 = x+w, y+h\n",
    "#     return x, y, x2, y2\n",
    "\n",
    "\n",
    "# def create_template(img_path, coord, t_fn=None, template=False):\n",
    "#     img = cv2.imread(str(img_path))\n",
    "#     print(img.shape)\n",
    "#     if not template:\n",
    "#         img = cv2.resize(img, (config.img_size[1], config.img_size[0]))\n",
    "#     img_copy = img.copy()\n",
    "#     x1, y1, x2, y2 = to_box(coord)\n",
    "#     cv2.rectangle(img_copy, (x1, y1), (x2, y2), (255, 0, 0), 3)\n",
    "    \n",
    "#     x, y, w, h = coord\n",
    "#     template = img[y:y+h, x:x+w]\n",
    "#     plot(template)\n",
    "#     plot(img_copy, sz=(25, 25))\n",
    "\n",
    "#     if t_fn:\n",
    "#         cv2.imwrite(str(t_fn), template)"
   ]
  },
  {
   "cell_type": "code",
   "execution_count": 8,
   "metadata": {},
   "outputs": [],
   "source": [
    "# coord = (2139, 1282, 18, 135) # (x, y, w, h)\n",
    "# create_template('data/test-mantra.jpg', coord, t_fn=config.template_path/'double_tsek_02.png')"
   ]
  },
  {
   "cell_type": "code",
   "execution_count": 9,
   "metadata": {},
   "outputs": [],
   "source": [
    "# img_path = config.images_path/'I1PD95846'/'I1PD958460141.jpg'\n",
    "# coord = (1162, 1910, 13, 135) # (x, y, w, h)\n",
    "# create_template(img_path, coord, t_fn=config.template_path/'double_tsek_03.png')"
   ]
  },
  {
   "cell_type": "markdown",
   "metadata": {},
   "source": [
    "# Pure OpenCV2"
   ]
  },
  {
   "cell_type": "markdown",
   "metadata": {},
   "source": [
    "### detect paragraphs"
   ]
  },
  {
   "cell_type": "code",
   "execution_count": 10,
   "metadata": {},
   "outputs": [],
   "source": [
    "# #image = cv2.imread('data/test.jpeg')\n",
    "# image = cv2.imread('data/test_diff_size.jpeg')\n",
    "# image = imutils.resize(image, height=3969, width=2645)\n",
    "# gray = cv2.cvtColor(image, cv2.COLOR_BGR2GRAY)\n",
    "# blur = cv2.GaussianBlur(gray, (7,7), 0)\n",
    "# thresh = cv2.threshold(blur, 0, 255, cv2.THRESH_BINARY_INV + cv2.THRESH_OTSU)[1]\n",
    "\n",
    "# # Create rectangular structuring element and dilate\n",
    "# kernel = cv2.getStructuringElement(cv2.MORPH_RECT, (5,5))\n",
    "# dilate = cv2.dilate(thresh, kernel, iterations=7)\n",
    "# plot(dilate, cmap='gray', sz=(25, 25))\n",
    "\n",
    "# # Find contours and draw rectangle\n",
    "# cnts = cv2.findContours(dilate, cv2.RETR_EXTERNAL, cv2.CHAIN_APPROX_SIMPLE)\n",
    "# cnts = cnts[0] if len(cnts) == 2 else cnts[1]\n",
    "# for c in cnts:\n",
    "#     x,y,w,h = cv2.boundingRect(c)\n",
    "#     cv2.rectangle(image, (x, y), (x + w, y + h), (36,255,12), 2)\n",
    "\n",
    "# plot(image, sz=(25, 25))"
   ]
  },
  {
   "cell_type": "markdown",
   "metadata": {},
   "source": [
    "### Text Skew Correction"
   ]
  },
  {
   "cell_type": "code",
   "execution_count": 11,
   "metadata": {},
   "outputs": [],
   "source": [
    "from deskew import determine_skew"
   ]
  },
  {
   "cell_type": "code",
   "execution_count": 12,
   "metadata": {},
   "outputs": [],
   "source": [
    "# def image_deskew2(image, show_diff=False):\n",
    "#     gray = cv2.cvtColor(image, cv2.COLOR_BGR2GRAY)\n",
    "#     gray = cv2.bitwise_not(gray)\n",
    "#     thresh = cv2.threshold(gray, 0, 255, cv2.THRESH_BINARY | cv2.THRESH_OTSU)[1]\n",
    "#     coords = np.column_stack(np.where(thresh > 2))\n",
    "#     angle = cv2.minAreaRect(coords)[-1]\n",
    "\n",
    "#     if angle < -45:\n",
    "#         angle = -(90 + angle)\n",
    "#     else:\n",
    "#         angle = -angle\n",
    "\n",
    "#     # rotate the image to deskew it\n",
    "#     (h, w) = image.shape[:2]\n",
    "#     center = (w // 2, h // 2)\n",
    "#     M = cv2.getRotationMatrix2D(center, angle, 1.0)\n",
    "#     rotated = cv2.warpAffine(image, M, (w, h), flags=cv2.INTER_CUBIC, borderMode=cv2.BORDER_REPLICATE)\n",
    "#     print(f'[INFO] Image dskewed by {angle:.3} angles')\n",
    "    \n",
    "#     if show_diff:\n",
    "#         plot(image, sz=(15, 15), axis=True)\n",
    "#         plot(rotated, sz=(15, 15), axis=True)\n",
    "        \n",
    "#     return rotated\n",
    "\n",
    "# def image_deskew(image, show_diff=False):\n",
    "#     def rotate(image, angle, background):\n",
    "#         old_width, old_height = image.shape[:2]\n",
    "#         angle_radian = math.radians(angle)\n",
    "#         width = abs(np.sin(angle_radian) * old_height) + abs(np.cos(angle_radian) * old_width)\n",
    "#         height = abs(np.sin(angle_radian) * old_width) + abs(np.cos(angle_radian) * old_height)\n",
    "\n",
    "#         image_center = tuple(np.array(image.shape[1::-1]) / 2)\n",
    "#         rot_mat = cv2.getRotationMatrix2D(image_center, angle, 1.0)\n",
    "#         rot_mat[1, 2] += (width - old_width) / 2\n",
    "#         rot_mat[0, 2] += (height - old_height) / 2\n",
    "#         return cv2.warpAffine(image, rot_mat, (int(round(height)), int(round(width))), borderValue=background)\n",
    "    \n",
    "#     if isinstance(image, (str, Path)):\n",
    "#         image = cv2.imread(str(image))\n",
    "#     gray = cv2.cvtColor(image, cv2.COLOR_BGR2GRAY)\n",
    "#     angle = determine_skew(gray)\n",
    "#     backgroud = tuple([int(x) for x in image[10][10]])\n",
    "#     rotated = rotate(image, angle, backgroud)\n",
    "    \n",
    "#     print(f'[INFO] Image dskewed by {angle:.4} angles')\n",
    "    \n",
    "#     if show_diff:\n",
    "#         plot(image, sz=(15, 15), axis=True)\n",
    "#         plot(rotated, sz=(15, 15), axis=True)\n",
    "        \n",
    "#     return rotated"
   ]
  },
  {
   "cell_type": "code",
   "execution_count": 13,
   "metadata": {
    "scrolled": true
   },
   "outputs": [],
   "source": [
    "# %%time\n",
    "# _ = image_deskew(cv2.imread('data/peydurma/test-set/white_skewed_01.jpg'), show_diff=True);"
   ]
  },
  {
   "cell_type": "code",
   "execution_count": 14,
   "metadata": {
    "scrolled": false
   },
   "outputs": [],
   "source": [
    "# %%time\n",
    "# _ = image_deskew(cv2.imread('data/peydurma/test-set/white_skewed_dtsek_01.jpg'), show_diff=True);"
   ]
  },
  {
   "cell_type": "markdown",
   "metadata": {},
   "source": [
    "## Template matching"
   ]
  },
  {
   "cell_type": "code",
   "execution_count": 15,
   "metadata": {},
   "outputs": [],
   "source": [
    "# def sorted_matches(matches):\n",
    "#     h_sorted_match = []\n",
    "#     for x, y in matches:\n",
    "#         found_group = False\n",
    "#         if h_sorted_match:\n",
    "#             for h_list in h_sorted_match:\n",
    "#                 if abs(y-h_list[0][1]) < 5:\n",
    "#                     h_list.append((x, y))\n",
    "#                     found_group = True\n",
    "#         else:\n",
    "#             h_sorted_match.append([(x, y)])\n",
    "#             found_group = True\n",
    "\n",
    "#         if not found_group:\n",
    "#             h_sorted_match.append([(x, y)])\n",
    "        \n",
    "#     full_sorted_match = []\n",
    "#     for h_list in h_sorted_match:\n",
    "#         full_sorted_match.append(sorted(h_list, key=lambda x: x[0]))\n",
    "        \n",
    "#     return sum(full_sorted_match, [])\n",
    "    \n",
    "\n",
    "# def remove_dup_match(match_locations):\n",
    "#     cleaned_match = []\n",
    "#     prev_x, prev_y = 0, 0\n",
    "#     th = 2\n",
    "#     for x, y in sorted_matches(zip(match_locations[1], match_locations[0])):\n",
    "#         if abs(x-prev_x) < 5 and abs(y-prev_y) < 5: continue\n",
    "#         cleaned_match.append((x, y))\n",
    "#         prev_x, prev_y = x, y\n",
    "#     return cleaned_match\n",
    "\n",
    "\n",
    "# def template_match(img, templates):\n",
    "#     # create edged image\n",
    "#     if isinstance(img, str):\n",
    "#         img = cv2.imread(img)\n",
    "#     if size:\n",
    "#         img = imutils.resize(img, height=config.img_size[0], width=config.img_size[1])\n",
    "#     print('Image size:', img.shape)\n",
    "#     gray = cv2.cvtColor(img, cv2.COLOR_BGR2GRAY)\n",
    "#     #plot(gray, cmap='gray', sz=(50, 50))\n",
    "#     edged = cv2.Canny(gray, 100, 600)\n",
    "#     #plot(edged, cmap='gray', sz=(50, 50))\n",
    "    \n",
    "#     output = defaultdict(list)\n",
    "#     clone = img.copy()\n",
    "#     for template_ in templates:\n",
    "#         t_type, template, th, data = template_\n",
    "        \n",
    "#         # template matching\n",
    "#         result = cv2.matchTemplate(edged, template, cv2.TM_CCOEFF)\n",
    "#         min_val, max_val, min_loc, max_loc = cv2.minMaxLoc(result)\n",
    "#         max_thresh = max_val * th\n",
    "#         match_locations = np.where(result>=max_thresh)\n",
    "#         cleaned_match_locations = remove_dup_match(match_locations)\n",
    "        \n",
    "#         # Plot\n",
    "#         w, h = template.shape[::-1]\n",
    "#         for (x, y) in cleaned_match_locations:\n",
    "#             output[t_type].append((x, y))\n",
    "#             cv2.rectangle(clone, (x, y), (x+w, y+h), [0,0,255], 2)\n",
    "    \n",
    "#         print(f'No. {t_type} detected: {len(output[t_type])}')\n",
    "\n",
    "#     plot(clone, cmap='gray', sz=(25, 25))\n",
    "#     return output"
   ]
  },
  {
   "cell_type": "code",
   "execution_count": 16,
   "metadata": {},
   "outputs": [],
   "source": [
    "# templates = [\n",
    "#     ('rectangle', rect_template, 0.9, {}),\n",
    "#     #('circle', cir_template, 0.7, {'radius': radius})\n",
    "# ]"
   ]
  },
  {
   "cell_type": "code",
   "execution_count": 17,
   "metadata": {},
   "outputs": [],
   "source": [
    "#output = template_match('data/test-mantra.jpg', templates)"
   ]
  },
  {
   "cell_type": "markdown",
   "metadata": {},
   "source": [
    "# Multi-Template-Matching Library"
   ]
  },
  {
   "cell_type": "code",
   "execution_count": 18,
   "metadata": {},
   "outputs": [],
   "source": [
    "#export\n",
    "def get_templates(path):\n",
    "    templates = []\n",
    "    for p in Path(path).iterdir():\n",
    "        if not p.name.endswith('.png'): continue\n",
    "        templates.append((p.stem, cv2.imread(str(p))))\n",
    "    return templates\n",
    "\n",
    "def mtm(image, templates, show=False, th=0.9):\n",
    "    if isinstance(image, (str, Path)):\n",
    "        image = cv2.imread(str(image))\n",
    "    matches = []\n",
    "    try:\n",
    "        hits = matchTemplates(templates, image, score_threshold=th, method=cv2.TM_CCOEFF_NORMED, maxOverlap=0.3)\n",
    "        for x, y, w, h in list(hits['BBox']):\n",
    "            matches.append([x, y, x+w, y+h])\n",
    "        if show: image = drawBoxesOnRGB(image, hits, boxThickness=5, boxColor=(255,0,0))\n",
    "    except KeyError as ex:\n",
    "        if ex.args[0] == 'Score':\n",
    "            print('\\t- double tsek not found !')\n",
    "            return matches\n",
    "\n",
    "    print(f'\\t- no. of double tsek detected: {len(matches)}')\n",
    "    if show:\n",
    "        plot(image, sz=(15, 15))\n",
    "\n",
    "    return matches"
   ]
  },
  {
   "cell_type": "code",
   "execution_count": 19,
   "metadata": {},
   "outputs": [],
   "source": [
    "#test_output = mtm('data/test.jpeg', templates, show=True)"
   ]
  },
  {
   "cell_type": "code",
   "execution_count": 20,
   "metadata": {},
   "outputs": [],
   "source": [
    "#mtm('data/test-mantra.jpg', templates, show=True)"
   ]
  },
  {
   "cell_type": "code",
   "execution_count": 21,
   "metadata": {},
   "outputs": [],
   "source": [
    "#mtm('data/test-02.jpeg', templates, show=True)"
   ]
  },
  {
   "cell_type": "code",
   "execution_count": 22,
   "metadata": {},
   "outputs": [],
   "source": [
    "#mtm('data/test_diff_size.jpeg', templates, show=True)"
   ]
  },
  {
   "cell_type": "code",
   "execution_count": 23,
   "metadata": {},
   "outputs": [],
   "source": [
    "#mtm('data/test-03.jpg', templates, show=True)"
   ]
  },
  {
   "cell_type": "markdown",
   "metadata": {},
   "source": [
    "## Test on actual Peydurma Image"
   ]
  },
  {
   "cell_type": "code",
   "execution_count": 24,
   "metadata": {},
   "outputs": [],
   "source": [
    "#mtm('data/peydurma-05.jpg', templates, show=True)"
   ]
  },
  {
   "cell_type": "code",
   "execution_count": 25,
   "metadata": {},
   "outputs": [],
   "source": [
    "#mtm('data/peydurma/test-set/yellow_01.jpg', templates, show=True)"
   ]
  },
  {
   "cell_type": "code",
   "execution_count": 26,
   "metadata": {},
   "outputs": [],
   "source": [
    "#mtm('data/peydurma/test-set/yellow_02.jpg', templates, show=True)"
   ]
  },
  {
   "cell_type": "code",
   "execution_count": 27,
   "metadata": {},
   "outputs": [],
   "source": [
    "#skewed_output = mtm('data/peydurma/test-set/white_skewed_dtsek_01.jpg', templates, show=True)"
   ]
  },
  {
   "cell_type": "code",
   "execution_count": 28,
   "metadata": {},
   "outputs": [],
   "source": [
    "# deskewed_img = image_deskew(config.images_path/'I1PD95846'/'I1PD958460141.jpg')\n",
    "# plot(deskewed_img)\n",
    "#mtm(config.images_path/'I1PD95846'/'I1PD958460141.jpg', templates, show=True)"
   ]
  },
  {
   "cell_type": "code",
   "execution_count": 29,
   "metadata": {},
   "outputs": [],
   "source": [
    "#mtm('data/peydurma/test-set/non_breaking.jpg', templates, show=True)"
   ]
  },
  {
   "cell_type": "markdown",
   "metadata": {},
   "source": [
    "# Find reinsertion span\n",
    "find line number and char location of double tsek\n",
    "- input: ocr_boxes, match_loc\n",
    "- output: line number and char index"
   ]
  },
  {
   "cell_type": "markdown",
   "metadata": {},
   "source": [
    "## Get OCR output\n",
    "- unzip ocr output and read the response json\n",
    "- resize the box w.r.t config.img_size"
   ]
  },
  {
   "cell_type": "code",
   "execution_count": 30,
   "metadata": {},
   "outputs": [],
   "source": [
    "#export\n",
    "def get_ocr_output(path):\n",
    "    imagegroup, img_fn = path.parts[-2:]\n",
    "    res_fn = config.ocr_output_path/imagegroup/f'{img_fn.split(\".\")[0]}.json.gz'\n",
    "    return json.load(gzip.open(str(res_fn), 'rb'))\n",
    "\n",
    "def get_symbol(response):\n",
    "    if 'fullTextAnnotation' not in response:\n",
    "        return None, None\n",
    "    for page in response['fullTextAnnotation']['pages']:\n",
    "        for block in page['blocks']:\n",
    "            for paragraph in block['paragraphs']:\n",
    "                for word in paragraph['words']:\n",
    "                    for symbol in word['symbols']:\n",
    "                        char = symbol['text']\n",
    "                        v = symbol['boundingBox']['vertices']\n",
    "                        x1, y1 = v[0].get('x', 0), v[0].get('y', 0) \n",
    "                        x2, y2 = v[2].get('x', 0), v[2].get('y', 0)\n",
    "                        box = [x1, y1, x2, y2]\n",
    "                        yield char, box\n",
    "\n",
    "def get_full_text_annotations(response):\n",
    "    boxes, text = [], ''\n",
    "    for char, box in get_symbol(response):\n",
    "        if not char and not box:\n",
    "            break\n",
    "        text += char\n",
    "        boxes.append(box)\n",
    "    return boxes, text\n",
    "\n",
    "def resize_boxes(boxes, old_size):\n",
    "    \"`boxes` are in top-right and bottom-left coord system.\"\n",
    "    h, w = old_size[:2]\n",
    "    h_scale = config.img_size[0]/h\n",
    "    w_scale = config.img_size[1]/w\n",
    "    result = []\n",
    "    for box in boxes:\n",
    "        # adjust the box\n",
    "        box[0] *= w_scale\n",
    "        box[1] *= h_scale\n",
    "        box[2] *= w_scale\n",
    "        box[3] *= h_scale\n",
    "        box = list(map(int, box))\n",
    "        result.append(box)\n",
    "    return result"
   ]
  },
  {
   "cell_type": "code",
   "execution_count": 31,
   "metadata": {},
   "outputs": [],
   "source": [
    "def plot_boxes(img, boxes, show=True, color=[0,0,255]):\n",
    "    for x1, y1, x2, y2 in boxes[0]:\n",
    "        cv2.rectangle(img, (x1, y1), (x2, y2), color, 2)\n",
    "\n",
    "    if len(boxes) > 1:\n",
    "        for x1, y1, x2, y2 in boxes[1]:\n",
    "            cv2.rectangle(img, (x1, y1), (x2, y2), [255,0,0], 5)\n",
    "    if show: plot(img, sz=(25, 25))\n",
    "    else: return img"
   ]
  },
  {
   "cell_type": "code",
   "execution_count": 32,
   "metadata": {
    "scrolled": true
   },
   "outputs": [],
   "source": [
    "def test_resize_boxes(image_path):\n",
    "    image = cv2.imread(str(image_path))\n",
    "    old_size = image.shape\n",
    "    image = cv2.resize(image, (config.img_size[1], config.img_size[0]))\n",
    "    response = get_ocr_output(image_path)\n",
    "    boxes, text = get_full_text_annotations(response)\n",
    "    print(text)\n",
    "    boxes = resize_boxes(boxes, old_size)\n",
    "    plot_boxes(image, [boxes, []])"
   ]
  },
  {
   "cell_type": "code",
   "execution_count": 33,
   "metadata": {},
   "outputs": [],
   "source": [
    "#test_resize_boxes(config.images_path/'I1PD95846'/'I1PD958460142.jpg')"
   ]
  },
  {
   "cell_type": "code",
   "execution_count": 34,
   "metadata": {},
   "outputs": [],
   "source": [
    "#test_resize_boxes(config.images_path/'I1PD95846'/'I1PD958460141.jpg')"
   ]
  },
  {
   "cell_type": "markdown",
   "metadata": {},
   "source": [
    "## Get context of Double Tsek"
   ]
  },
  {
   "cell_type": "code",
   "execution_count": 35,
   "metadata": {},
   "outputs": [],
   "source": [
    "#export\n",
    "def cls_box_into_line(boxes, th=20):\n",
    "    lines = []\n",
    "    line = []\n",
    "    prev_y1 = boxes[0][1]\n",
    "    for box in boxes:\n",
    "        if abs(box[1] - prev_y1) < th:\n",
    "            line.append(box)\n",
    "        else:\n",
    "            lines.append(line)\n",
    "            line = []\n",
    "            line.append(box)\n",
    "        prev_y1 = box[1]\n",
    "    else:\n",
    "        if line: lines.append(line)\n",
    "    return lines"
   ]
  },
  {
   "cell_type": "code",
   "execution_count": 36,
   "metadata": {},
   "outputs": [],
   "source": [
    "def test_box_into_line(image_path):\n",
    "    image = cv2.imread(str(image_path))\n",
    "    old_size = image.shape\n",
    "    image = cv2.resize(image, (config.img_size[1], config.img_size[0]))\n",
    "    response = get_ocr_output(image_path)\n",
    "    boxes, text = get_full_text_annotations(response)\n",
    "    boxes = resize_boxes(boxes, old_size)\n",
    "    boxe_lines = cls_box_into_line(boxes)\n",
    "    \n",
    "    for box_line in boxe_lines:\n",
    "        r, g, b = map(int, np.random.choice(range(256), size=3))\n",
    "        image = plot_boxes(image, [box_line], show=False, color=(r,g,b))\n",
    "    plot(image, sz=(25, 25))\n",
    "    \n",
    "#test_box_into_line(config.images_path/'I1PD95846'/'I1PD958460048.jpg')"
   ]
  },
  {
   "cell_type": "code",
   "execution_count": 52,
   "metadata": {},
   "outputs": [],
   "source": [
    "#export\n",
    "def find_double_tsek_bf(matched_box, boxes, th=20):\n",
    "    box_lines = cls_box_into_line(boxes)\n",
    "    pos = 0\n",
    "    prev_x1 = 0\n",
    "    for box_line in box_lines:\n",
    "        if abs(matched_box[1] - box_line[0][1]) < th:\n",
    "            for i, box in enumerate(box_line):\n",
    "                if matched_box[0] > prev_x1 and matched_box[0] < box[0]:\n",
    "                    pos += i-1\n",
    "                    return pos\n",
    "        pos += len(box_line)\n",
    "\n",
    "\n",
    "def compute_iou(box_arr1, box_arr2):\n",
    "    x11, y11, x12, y12 = np.split(box_arr1, 4, axis=1)\n",
    "    x21, y21, x22, y22 = np.split(box_arr2, 4, axis=1)\n",
    "\n",
    "    xA = np.maximum(x11, np.transpose(x21))\n",
    "    yA = np.maximum(y11, np.transpose(y21))\n",
    "    xB = np.minimum(x12, np.transpose(x22))\n",
    "    yB = np.minimum(y12, np.transpose(y22))\n",
    "    interArea = np.maximum((xB - xA + 1), 0) * np.maximum((yB - yA + 1), 0)\n",
    "    boxAArea = (x12 - x11 + 1) * (y12 - y11 + 1)\n",
    "    boxBArea = (x22 - x21 + 1) * (y22 - y21 + 1)\n",
    "    iou = interArea / (boxAArea + np.transpose(boxBArea) - interArea)\n",
    "\n",
    "    return iou\n",
    "\n",
    "\n",
    "def get_double_tsek_idx(image_path, templates, deskew=False, show_boxes=False):\n",
    "    # load, deskew and resize the image\n",
    "    image = cv2.imread(str(image_path))\n",
    "    old_size = image.shape\n",
    "    if deskew: image = image_deskew(image)\n",
    "    image = cv2.resize(image, (config.img_size[1], config.img_size[0]))\n",
    "\n",
    "    # find the double tsek boxes\n",
    "    matches = mtm(image, templates)\n",
    "\n",
    "    # Get ocr boxes\n",
    "    try:\n",
    "        response = get_ocr_output(image_path)\n",
    "        print(response)\n",
    "    except FileNotFoundError:\n",
    "        print(\"fail to load ocr ouput for \", image_path)\n",
    "        return [], \"\"\n",
    "    boxes, text = get_full_text_annotations(response)\n",
    "    if not matches or not boxes: return [], text\n",
    "    boxes = resize_boxes(boxes, old_size)\n",
    "\n",
    "    # find double tsek char index\n",
    "    iou_matrix = compute_iou(np.array(matches), np.array(boxes))\n",
    "    if show_boxes: plot_boxes(image, [boxes, matches])\n",
    "    idxs = list(np.argmax(iou_matrix, axis=1))\n",
    "    if 0 in idxs:\n",
    "        undetected_box_idx = idxs.index(0)\n",
    "        undetected_box_char_idx = find_double_tsek_bf(matches[undetected_box_idx], boxes)\n",
    "        if undetected_box_char_idx:\n",
    "            idxs[undetected_box_idx] = undetected_box_char_idx\n",
    "        else:\n",
    "            idxs.pop(undetected_box_idx)\n",
    "    idxs.sort()\n",
    "    return idxs, text"
   ]
  },
  {
   "cell_type": "code",
   "execution_count": 38,
   "metadata": {
    "scrolled": true
   },
   "outputs": [],
   "source": [
    "def test_get_double_tsek_idx(image_path):\n",
    "    idxs, text = get_double_tsek_idx(image_path, templates, show_boxes=True)\n",
    "    print(idxs)\n",
    "    for cc in idxs:\n",
    "        print(text[cc-10:cc], text[cc], text[cc+1: cc+10])"
   ]
  },
  {
   "cell_type": "code",
   "execution_count": 39,
   "metadata": {},
   "outputs": [],
   "source": [
    "#test_get_double_tsek_idx(config.images_path/'I1PD95846'/'I1PD958460047.jpg')"
   ]
  },
  {
   "cell_type": "code",
   "execution_count": 40,
   "metadata": {},
   "outputs": [],
   "source": [
    "#test_get_double_tsek_idx(config.images_path/'I1PD95846'/'I1PD958460043.jpg')"
   ]
  },
  {
   "cell_type": "code",
   "execution_count": 41,
   "metadata": {},
   "outputs": [],
   "source": [
    "#test_get_double_tsek_idx(config.images_path/'I1PD95846'/'I1PD958460048.jpg')"
   ]
  },
  {
   "cell_type": "code",
   "execution_count": 42,
   "metadata": {},
   "outputs": [],
   "source": [
    "#export\n",
    "def put_whitespaces(text):\n",
    "    result = ''\n",
    "    for chunk in text.split('།'):\n",
    "        if chunk:\n",
    "            result += chunk + '། '\n",
    "        else:\n",
    "            result += '།'\n",
    "    return result"
   ]
  },
  {
   "cell_type": "code",
   "execution_count": 43,
   "metadata": {},
   "outputs": [],
   "source": [
    "# test_str = '།ལས་བརྒྱ་ཐམ་པ་པ།༄༅།།རྒྱ་གར་སྐད་དུ།ཀརྨ་ཤ་ཏ་ཀ།བོད་སྐད་དུ།ལས་བརྒྱ་ཐམ་པ་པོ།བམ་པོ་དང་པོ།ཐམས་ཅད་མཁྱེན་པ་ལ་ཕྱག་འཚལ་ལོ།།གང་ལས་འཇིག་རྟེན་བླ་མ་བདེ་གཤེགས་ཐོས་པའི་སྒོ་ནས་རབ་སྙན་བརྟན་པའི་གསུང་་་་ལྡན་གྱིས།།སེམས་ཅན་རྣམས་ལ་ཕན་པ་འབའ་ཞིག་བཞེད་ཕྱིར་བཤད་པ་རྣམ་པ་སྣ་ཚོགས་རང་ཉིད་ཀྱིས།།ལོག་པར་ལྟ་བའི་མུན་ནག་ཆེན་པོ་ཐིབས་པོར་$འཐོམས་ཤིངའཁྲུགས་པ་རྣམས་ལ་རབ་གསུངས་པ།།་$དེ་ཡི་མིང་ནི་ལས་རྣམ་བརྒྱ་པ་ཞེས་བྱ་ཡོངས་སུ་ཚང་བ་བདག་གིས་བཤད་ཀྱིས་ཉོན།།སྤྱི་སྡོམ་ནི༑ཁྱི་མོ་དང་ནི་ཤིང་རྟ་དང་།།ཀ་ཙང་ཀ་ལ་བྱམས་མི་སྡུག།བྱ་དང་འཕྱེ་བོ་གང་པོ་དང་།།བུ་རྣམས་དང་ནི་བརྒྱ་བྱིན་ནོ།།སྡོམ་ནི།ཁྱི་མོ་མིག་ཆུང་ལ་རྫོགས་བྱེད་དང་།།སྒྱུར་གཉིས་འཆར་ཀ་རྒྱལ་མཚན་དང༌།།བདེ་བྱེད་མ་དང་ནོར་བུའི་འོད།།སྣ་མའི་མེ་ཏོག་ང་བྱིན་དང༌།།འདུས་མོ་དང་ནི་ཚེམ་བུ་མདོ་སྡེ།ཧ་མཁན༑།ཁྱི་མོ་ཞེས་བྱ་བ་ནི།གླེང་$གཞི་མཉན་དུ་ཡོད་པ་ན་བཞུགས་ཏེ།དེའི་ཚེ་མཉན་དུ་ཡོད་པ་ནི།ཁྱིམ་བདག་ཕྱུག་ཅིང་ནོར་མང་ལ་ལོངས་སྤྱོད་ཆེ་བ་ཡོངས་ས'\n",
    "# put_whitespaces(test_str)"
   ]
  },
  {
   "cell_type": "code",
   "execution_count": 51,
   "metadata": {},
   "outputs": [],
   "source": [
    "#export\n",
    "def rm_running_head(text):\n",
    "    r_head_end_idx = text.find('༡')\n",
    "    if r_head_end_idx >= 0  and r_head_end_idx < 500:\n",
    "        return text[r_head_end_idx+1:]\n",
    "    else:\n",
    "        return text[text.find('།')+1:]\n",
    "\n",
    "def rm_noise(text):\n",
    "    'remove numbers and etc'\n",
    "    text = re.sub(f'\\d+', '', text)\n",
    "    for r in ['=', '|', '“', '”', ']', '）', ')', '》', '>', '©', '–', '-', '༸', ('་ི', '་')]:\n",
    "        if isinstance(r, tuple):\n",
    "            text = text.replace(r[0], r[1])\n",
    "        else:\n",
    "            text = text.replace(r, '')\n",
    "    return text\n",
    "\n",
    "def postprocess(text):\n",
    "    text = rm_running_head(text)\n",
    "    text = rm_noise(text)\n",
    "    for f, t in [('$་','་$'), ('$།', '།$'), ('།་$', '།$')]:\n",
    "        text = text.replace(f, t)\n",
    "    text = put_whitespaces(text)\n",
    "    return text\n",
    "\n",
    "def str_insert(text, idx, char):\n",
    "    text = text[:idx] + char + text[idx:]\n",
    "    return text\n",
    "\n",
    "def add_double_tsek(text, idxs):\n",
    "    for i, idx in enumerate(idxs):\n",
    "        text = str_insert(text, idx+i, config.double_tsek_sym)\n",
    "    return text\n",
    "\n",
    "def extract_double_tsek_vol(vol_id, image_group_path):\n",
    "    ann_text_fn = config.pedurma_output_path/f'{vol_id}.txt'\n",
    "    if ann_text_fn.is_file():\n",
    "        return\n",
    "    ann_text_pages = []\n",
    "    for i, path in enumerate(sorted((image_group_path).iterdir()), 1):\n",
    "        print(f'[INFO] {i+1} - Processing {path.stem} ...')\n",
    "        \n",
    "        # cache page dtsek output\n",
    "        dt_vol_output_dir = config.pedurma_output_path/image_group_path.name\n",
    "        dt_vol_output_dir.mkdir(parents=True, exist_ok=True)\n",
    "        dt_page_output_fn = dt_vol_output_dir / f\"{path.stem}.txt\"\n",
    "        if dt_page_output_fn.is_file():\n",
    "            continue\n",
    "            \n",
    "        idxs, text = get_double_tsek_idx(path, templates)\n",
    "        dt_page_output = postprocess(add_double_tsek(text, idxs))\n",
    "        dt_page_output_fn.write_text(dt_page_output)"
   ]
  },
  {
   "cell_type": "code",
   "execution_count": 48,
   "metadata": {},
   "outputs": [
    {
     "name": "stdout",
     "output_type": "stream",
     "text": [
      "[INFO] 2 - Processing I1PD967840001 ...\n",
      "\t- double tsek not found !\n",
      "[] ༄༅།།བོད་ཀྱི་ནང་བསྟན་དཔེ་ཚོགས་ལྟེ་གནས།།TibetanBuddhistResourceCenterTextScanInputForm-TitlePageWork:W1PD96682ImageGroup:11PD96784LCCN:n/aISBN:7800576949Title:བཀའ་འགྱུརbka''gyurAuthor:n/an/aDescriptor:OriginalPublication:In/a,n/a?????????Place:Publisher:???????????????????Date:2006-2009Volume:1TotalVolumes:108TBRCPages:2IntroductoryPages:n/aTextPages:n/aScanningInformation:ScannedatTibetanBuddhistResourceCenter,150West17thSt,NewYorkCity,NY10011,US.Comments:2010\n"
     ]
    }
   ],
   "source": [
    "extract_double_tsek_vol('v001', config.images_path/'I1PD96784')"
   ]
  },
  {
   "cell_type": "markdown",
   "metadata": {
    "heading_collapsed": true
   },
   "source": [
    "### By pages"
   ]
  },
  {
   "cell_type": "code",
   "execution_count": 99,
   "metadata": {
    "hidden": true
   },
   "outputs": [],
   "source": [
    "#export\n",
    "def get_double_tsek_vol_by_pages(path, start, end, engine):\n",
    "    for i, path in enumerate(sorted((path).iterdir()), 1):\n",
    "        if i <  start: continue\n",
    "        if i > end: break\n",
    "        # speed up\n",
    "        ann_page_fn = config.output_tmp_path/f'{path.stem}-ann.txt'\n",
    "        if ann_page_fn.is_file():\n",
    "            ann_page = ann_page_fn.read_text()\n",
    "            if engine == 'diff':\n",
    "                yield '', ann_page, path.stem\n",
    "            else:\n",
    "                base_page = ann_page.replace(config.double_tsek_sym, '')\n",
    "                yield base_page, ann_page, path.stem\n",
    "\n",
    "        print(f'[INFO] {i+1} - Processing {path.name} ...')\n",
    "        idxs, text = get_double_tsek_idx(path, templates)\n",
    "        ann_page = postprocess(add_double_tsek(text, idxs))\n",
    "        ann_page_fn.write_text(ann_page)\n",
    "        if engine == 'diff':\n",
    "            yield '', ann_page, path.stem\n",
    "        else:\n",
    "            base_page = ann_page.replace(config.double_tsek_sym, '')\n",
    "            yield base_page, ann_page, path.stem"
   ]
  },
  {
   "cell_type": "markdown",
   "metadata": {},
   "source": [
    "### Run"
   ]
  },
  {
   "cell_type": "code",
   "execution_count": 3,
   "metadata": {},
   "outputs": [],
   "source": [
    "#export\n",
    "def main():\n",
    "    for i, img_group_path in enumerate(sorted(config.images_path.iterdir()), 1):\n",
    "        extract_double_tsek_vol(f\"v{i:03}\", img_group_path)"
   ]
  },
  {
   "cell_type": "code",
   "execution_count": 50,
   "metadata": {},
   "outputs": [
    {
     "ename": "NameError",
     "evalue": "name 'main' is not defined",
     "output_type": "error",
     "traceback": [
      "\u001b[0;31m---------------------------------------------------------------------------\u001b[0m",
      "\u001b[0;31mNameError\u001b[0m                                 Traceback (most recent call last)",
      "\u001b[0;32m<ipython-input-50-2efcff830a92>\u001b[0m in \u001b[0;36m<module>\u001b[0;34m\u001b[0m\n\u001b[1;32m      6\u001b[0m         \u001b[0mconfig\u001b[0m \u001b[0;34m=\u001b[0m \u001b[0mTengyurConfig\u001b[0m\u001b[0;34m(\u001b[0m\u001b[0;34m)\u001b[0m\u001b[0;34m\u001b[0m\u001b[0;34m\u001b[0m\u001b[0m\n\u001b[1;32m      7\u001b[0m     \u001b[0mtemplates\u001b[0m \u001b[0;34m=\u001b[0m \u001b[0mget_templates\u001b[0m\u001b[0;34m(\u001b[0m\u001b[0mconfig\u001b[0m\u001b[0;34m.\u001b[0m\u001b[0mtemplate_path\u001b[0m\u001b[0;34m)\u001b[0m\u001b[0;34m;\u001b[0m \u001b[0mlen\u001b[0m\u001b[0;34m(\u001b[0m\u001b[0mtemplates\u001b[0m\u001b[0;34m)\u001b[0m\u001b[0;34m\u001b[0m\u001b[0;34m\u001b[0m\u001b[0m\n\u001b[0;32m----> 8\u001b[0;31m     \u001b[0mmain\u001b[0m\u001b[0;34m(\u001b[0m\u001b[0;34m)\u001b[0m\u001b[0;34m\u001b[0m\u001b[0;34m\u001b[0m\u001b[0m\n\u001b[0m",
      "\u001b[0;31mNameError\u001b[0m: name 'main' is not defined"
     ]
    }
   ],
   "source": [
    "#export\n",
    "if __name__ == \"__main__\":\n",
    "    if len(sys.argv) > 1 and sys.argv[1] == \"k\":\n",
    "        config = KangyurConfig()\n",
    "    else: \n",
    "        config = TengyurConfig()\n",
    "    templates = get_templates(config.template_path); len(templates)\n",
    "    main()"
   ]
  },
  {
   "cell_type": "code",
   "execution_count": null,
   "metadata": {},
   "outputs": [],
   "source": []
  }
 ],
 "metadata": {
  "kernelspec": {
   "display_name": "Python 3",
   "language": "python",
   "name": "python3"
  },
  "language_info": {
   "codemirror_mode": {
    "name": "ipython",
    "version": 3
   },
   "file_extension": ".py",
   "mimetype": "text/x-python",
   "name": "python",
   "nbconvert_exporter": "python",
   "pygments_lexer": "ipython3",
   "version": "3.6.7"
  },
  "toc": {
   "base_numbering": 1,
   "nav_menu": {},
   "number_sections": true,
   "sideBar": true,
   "skip_h1_title": false,
   "title_cell": "Table of Contents",
   "title_sidebar": "Contents",
   "toc_cell": false,
   "toc_position": {
    "height": "calc(100% - 180px)",
    "left": "10px",
    "top": "150px",
    "width": "240px"
   },
   "toc_section_display": true,
   "toc_window_display": false
  }
 },
 "nbformat": 4,
 "nbformat_minor": 2
}
